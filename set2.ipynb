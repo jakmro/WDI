{
 "cells": [
  {
   "cell_type": "markdown",
   "metadata": {},
   "source": [
    "Zadanie 1. Napisz program wczytujący liczbę naturalną z klawiatury i odpowiadający na pytanie, czy liczba ta jest iloczynem dowolnych dwóch wyrazów ciągu Fibonacciego."
   ]
  },
  {
   "cell_type": "code",
   "execution_count": 6,
   "metadata": {},
   "outputs": [
    {
     "data": {
      "text/plain": [
       "True"
      ]
     },
     "execution_count": 6,
     "metadata": {},
     "output_type": "execute_result"
    }
   ],
   "source": [
    "n = int(input())\n",
    "\n",
    "\n",
    "def fib(n):\n",
    "    if n == 1 or n == 2:\n",
    "        return 1\n",
    "\n",
    "    a = b = 1\n",
    "\n",
    "    for i in range(3, n + 1):\n",
    "        b, a = a + b, b\n",
    "\n",
    "    return b\n",
    "\n",
    "\n",
    "def is_fib_product(n):\n",
    "    for i in range(1, 100):\n",
    "        for j in range(i, 100):\n",
    "            if fib(i) * fib(j) == n:\n",
    "                return True\n",
    "\n",
    "    return False\n",
    "\n",
    "\n",
    "is_fib_product(n)\n"
   ]
  },
  {
   "cell_type": "markdown",
   "metadata": {},
   "source": [
    "Zadanie 2. Napisać program wczytujący trzy liczby naturalne a,b,n i wypisujący rozwinięcie dziesiętne ułamka a/b z dokładnością do n miejsc po kropce dziesiętnej. (n jest rzędu 100)"
   ]
  },
  {
   "cell_type": "code",
   "execution_count": 10,
   "metadata": {},
   "outputs": [
    {
     "name": "stdout",
     "output_type": "stream",
     "text": [
      "3.00"
     ]
    }
   ],
   "source": [
    "a = int(input())\n",
    "b = int(input())\n",
    "n = int(input())\n",
    "\n",
    "print(a // b, '.', sep='', end='')\n",
    "\n",
    "a %= b\n",
    "\n",
    "for i in range(n):\n",
    "    a *= 10\n",
    "    print(a // b, end='')\n",
    "    a %= b\n"
   ]
  },
  {
   "cell_type": "markdown",
   "metadata": {},
   "source": [
    "Zadanie 3. Napisz program wczytujący liczbę naturalną z klawiatury i odpowiadający na pytanie, czy liczba naturalna jest palindromem, a następnie czy jest palindromem w systemie dwójkowym."
   ]
  },
  {
   "cell_type": "code",
   "execution_count": 23,
   "metadata": {},
   "outputs": [
    {
     "name": "stdout",
     "output_type": "stream",
     "text": [
      "True\n"
     ]
    }
   ],
   "source": [
    "n = input()\n",
    "bin_n = bin(int(n))\n",
    "\n",
    "\n",
    "def is_palindrome(n):\n",
    "    for i in range(len(n) // 2):\n",
    "        if n[i] != n[len(n) - i - 1]:\n",
    "            return False\n",
    "\n",
    "    return True\n",
    "\n",
    "\n",
    "if is_palindrome(n) and is_palindrome(bin_n[2:]):\n",
    "    print(True)\n",
    "else:\n",
    "    print(False)\n"
   ]
  },
  {
   "cell_type": "markdown",
   "metadata": {},
   "source": [
    "Zadanie 4. Liczba dwu-trzy-piątkowa w rozkładzie na czynniki pierwsze nie posiada innych czynników niż 2,3,5. Jedynka też jest taką liczbą. Napisz program, który wylicza ile takich liczb znajduje się w przedziale od 1 do N włącznie."
   ]
  },
  {
   "cell_type": "code",
   "execution_count": 32,
   "metadata": {},
   "outputs": [
    {
     "name": "stdout",
     "output_type": "stream",
     "text": [
      "True\n",
      "True\n",
      "False\n"
     ]
    }
   ],
   "source": [
    "def two_three_five(n):\n",
    "    while n % 2 == 0:\n",
    "        n //= 2\n",
    "\n",
    "    while n % 3 == 0:\n",
    "        n //= 3\n",
    "\n",
    "    while n % 5 == 0:\n",
    "        n //= 5\n",
    "\n",
    "    if n == 1:\n",
    "        return True\n",
    "\n",
    "    return False\n",
    "\n",
    "\n",
    "print(two_three_five(5))\n",
    "print(two_three_five(120))\n",
    "print(two_three_five(97))\n"
   ]
  },
  {
   "cell_type": "markdown",
   "metadata": {},
   "source": [
    "Zadanie 5. Dana jest liczba naturalna o niepowtarzających się cyfrach pośród których nie ma zera. Ile różnych liczb podzielnych np. przez 7 można otrzymać poprzez wykreślenie dowolnych cyfr w tej liczbie. Np. dla 2315 będą to 21, 35, 231, 315."
   ]
  },
  {
   "cell_type": "code",
   "execution_count": 44,
   "metadata": {},
   "outputs": [
    {
     "data": {
      "text/plain": [
       "4"
      ]
     },
     "execution_count": 44,
     "metadata": {},
     "output_type": "execute_result"
    }
   ],
   "source": [
    "num = 2315\n",
    "divisor = 7\n",
    "\n",
    "\n",
    "def count_subnums(num, divisor):\n",
    "    num_str = str(num)\n",
    "    num_len = len(num_str)\n",
    "    bits = 1 << num_len\n",
    "\n",
    "    counter = 0\n",
    "\n",
    "    for i in range(1, bits):\n",
    "        subnum = 0\n",
    "        for j in range(num_len):\n",
    "            if i & 1 << j:\n",
    "                subnum *= 10\n",
    "                subnum += int(num_str[j])\n",
    "\n",
    "        if subnum % divisor == 0:\n",
    "            counter += 1\n",
    "\n",
    "    return counter\n",
    "\n",
    "\n",
    "count_subnums(num, divisor)\n"
   ]
  },
  {
   "cell_type": "markdown",
   "metadata": {},
   "source": [
    "Zadanie 6. Napisać program wczytujący liczbę naturalną z klawiatury i rozkładający ją na iloczyn 2 liczb o najmniejszej różnicy. Np. 30 = 5 ∗ 6, 120 = 10 ∗ 12."
   ]
  },
  {
   "cell_type": "code",
   "execution_count": 172,
   "metadata": {},
   "outputs": [
    {
     "name": "stdout",
     "output_type": "stream",
     "text": [
      "1 3\n"
     ]
    }
   ],
   "source": [
    "n = int(input())\n",
    "\n",
    "for d in range(int(n ** 0.5), 0, -1):\n",
    "    if n % d == 0:\n",
    "        print(d, n // d)\n",
    "        break\n"
   ]
  },
  {
   "cell_type": "markdown",
   "metadata": {},
   "source": [
    "Zadanie 7. Napisz program wczytujący liczbę naturalną z klawiatury i odpowiadający na pytanie, czy liczba ta jest wielokrotnością dowolnego wyrazu ciągu danego wzorem An = n ∗ n + n + 1."
   ]
  },
  {
   "cell_type": "code",
   "execution_count": 193,
   "metadata": {},
   "outputs": [
    {
     "data": {
      "text/plain": [
       "True"
      ]
     },
     "execution_count": 193,
     "metadata": {},
     "output_type": "execute_result"
    }
   ],
   "source": [
    "def is_multipe(n):\n",
    "    An = 1\n",
    "\n",
    "    while An <= n:\n",
    "        An = An * An + An + 1\n",
    "\n",
    "        if n % An == 0:\n",
    "            return True\n",
    "\n",
    "    return False\n",
    "\n",
    "\n",
    "n = int(input())\n",
    "is_multipe(n)\n"
   ]
  },
  {
   "cell_type": "markdown",
   "metadata": {},
   "source": [
    "Zadanie 8. Pewnych liczb nie można przedstawić jako sumy elementów spójnych fragmentów ciągu Fibo- nacciego, np. 9,14,15,17,22. Proszę napisać program, który wczytuje liczbę naturalną n, wylicza i wypisuje następną taką liczbę większą od n. Można założyć, że 0 < n < 1000."
   ]
  },
  {
   "cell_type": "code",
   "execution_count": 200,
   "metadata": {},
   "outputs": [
    {
     "name": "stdout",
     "output_type": "stream",
     "text": [
      "17\n"
     ]
    }
   ],
   "source": [
    "a = b = 1\n",
    "sum_fib = [0]\n",
    "\n",
    "\n",
    "for i in range(20):\n",
    "    sum_fib.append(a + sum_fib[i])\n",
    "    b, a = a + b, b\n",
    "\n",
    "\n",
    "n = int(input())\n",
    "\n",
    "\n",
    "def not_subfib(n):\n",
    "    d = {}\n",
    "\n",
    "    for i in sum_fib:\n",
    "        if d.get(i-n, False):\n",
    "            return False\n",
    "        d[i] = True\n",
    "\n",
    "    return True\n",
    "\n",
    "\n",
    "for i in range(n + 1, 1000):\n",
    "    if not_subfib(i):\n",
    "        print(i)\n",
    "        break\n"
   ]
  },
  {
   "cell_type": "markdown",
   "metadata": {},
   "source": [
    "Zadanie 9. Napisać program, który oblicza pole figury pod wykresem funkcji y = 1/x w przedziale od 1 do k, metodą prostokątów."
   ]
  },
  {
   "cell_type": "code",
   "execution_count": 101,
   "metadata": {},
   "outputs": [
    {
     "name": "stdout",
     "output_type": "stream",
     "text": [
      "1.098612355482113\n"
     ]
    }
   ],
   "source": [
    "def f(x):\n",
    "    return 1 / x\n",
    "\n",
    "\n",
    "x = 1\n",
    "k = 3\n",
    "\n",
    "eps = (k - x) / 10000000\n",
    "area = 0\n",
    "\n",
    "while x < k:\n",
    "    area += eps * f((x + a + x) / 2)\n",
    "    x += eps\n",
    "\n",
    "print(area)\n"
   ]
  },
  {
   "cell_type": "markdown",
   "metadata": {},
   "source": [
    "Zadanie 10. Napisz program wczytujący liczbę naturalną z klawiatury i odpowiadający na pytanie, czy liczba ta jest wielokrotnością dowolnego wyrazu ciągu danego wzorem An = 3 ∗ An−1 + 1, a pierwszy wyraz jest równy 2."
   ]
  },
  {
   "cell_type": "code",
   "execution_count": 109,
   "metadata": {},
   "outputs": [
    {
     "data": {
      "text/plain": [
       "True"
      ]
     },
     "execution_count": 109,
     "metadata": {},
     "output_type": "execute_result"
    }
   ],
   "source": [
    "def is_multipe(n):\n",
    "    An = 2\n",
    "\n",
    "    while An <= n:\n",
    "        if n % An == 0:\n",
    "            return True\n",
    "        An = 3 * An + 1\n",
    "\n",
    "    return False\n",
    "\n",
    "\n",
    "n = int(input())\n",
    "is_multipe(n)\n"
   ]
  },
  {
   "cell_type": "markdown",
   "metadata": {},
   "source": [
    "Zadanie 11. Napisz program wczytujący liczbę naturalną z klawiatury i odpowiadający na pytanie, czy jej cyfry stanowią ciąg rosnący."
   ]
  },
  {
   "cell_type": "code",
   "execution_count": 118,
   "metadata": {},
   "outputs": [
    {
     "name": "stdout",
     "output_type": "stream",
     "text": [
      "True\n"
     ]
    }
   ],
   "source": [
    "n = int(input())\n",
    "\n",
    "\n",
    "def increasing_digits(n):\n",
    "    n = str(n)\n",
    "    for i in range(1, len(n)):\n",
    "        if n[i - 1] >= n[i]:\n",
    "            return False\n",
    "\n",
    "    return True\n",
    "\n",
    "\n",
    "print(increasing_digits(n))\n"
   ]
  },
  {
   "cell_type": "markdown",
   "metadata": {},
   "source": [
    "Zadanie 12. Napisz program wczytujący liczbę naturalną z klawiatury i odpowiadający na pytanie, czy liczba ta zawiera cyfrę równą liczbie swoich cyfr."
   ]
  },
  {
   "cell_type": "code",
   "execution_count": 132,
   "metadata": {},
   "outputs": [
    {
     "data": {
      "text/plain": [
       "True"
      ]
     },
     "execution_count": 132,
     "metadata": {},
     "output_type": "execute_result"
    }
   ],
   "source": [
    "def digit_equal_len(n):\n",
    "    n = str(n)\n",
    "\n",
    "    for digit in n:\n",
    "        if int(digit) == len(n):\n",
    "            return True\n",
    "\n",
    "    return False\n",
    "\n",
    "\n",
    "n = int(input())\n",
    "digit_equal_len(n)\n"
   ]
  },
  {
   "cell_type": "markdown",
   "metadata": {},
   "source": [
    "Zadanie 13. Napisz program wczytujący liczbę naturalną z klawiatury i odpowiadający na pytanie, czy liczba zakończona jest unikalną cyfrą."
   ]
  },
  {
   "cell_type": "code",
   "execution_count": 145,
   "metadata": {},
   "outputs": [
    {
     "data": {
      "text/plain": [
       "True"
      ]
     },
     "execution_count": 145,
     "metadata": {},
     "output_type": "execute_result"
    }
   ],
   "source": [
    "n = int(input())\n",
    "\n",
    "\n",
    "def ends_unique(n):\n",
    "    n = str(n)\n",
    "    digits_presence = [False for _ in range(10)]\n",
    "\n",
    "    for i in n[:-1]:\n",
    "        digits_presence[int(i)] = True\n",
    "\n",
    "    if digits_presence[int(n[-1:])] == False:\n",
    "        return True\n",
    "\n",
    "    return False\n",
    "\n",
    "\n",
    "ends_unique(n)\n"
   ]
  },
  {
   "cell_type": "markdown",
   "metadata": {},
   "source": [
    "Zadanie 14. Dane są dwie liczby naturalne z których budujemy trzecią liczbę. W budowanej liczbie mu- szą wystąpić wszystkie cyfry występujące w liczbach wejściowych. Wzajemna kolejność cyfr każdej z liczb wejściowych musi być zachowana. Na przykład mając liczby 123 i 75 możemy zbudować liczby 12375, 17523, 75123, 17253, itd. Proszę napisać funkcję która wyznaczy ile liczb pierwszych można zbudować z dwóch zadanych liczb."
   ]
  },
  {
   "cell_type": "code",
   "execution_count": null,
   "metadata": {},
   "outputs": [],
   "source": []
  },
  {
   "cell_type": "markdown",
   "metadata": {},
   "source": [
    "Zadanie 15. Napisać program znajdujący wszystkie liczby N-cyfrowe dla których suma N-tych potęg cyfr liczby jest równa tej liczbie, np. 153 = 13 + 53 + 33."
   ]
  },
  {
   "cell_type": "markdown",
   "metadata": {},
   "source": [
    "Zadanie 16. Liczba Smitha to taka, której suma cyfr jest równa sumie cyfr wszystkich liczb występujących w jej rozkładzie na czynniki pierwsze. Na przykład: 85 = 5∗17, 8+5 = 5+1+7. Napisać program wypisujący liczby Smitha mniejsze od 1000000."
   ]
  },
  {
   "cell_type": "code",
   "execution_count": null,
   "metadata": {},
   "outputs": [],
   "source": []
  },
  {
   "cell_type": "markdown",
   "metadata": {},
   "source": [
    "Zadanie 17. Napisać program wyliczający pierwiastek równania xx = 2020 metodą stycznych."
   ]
  },
  {
   "cell_type": "code",
   "execution_count": null,
   "metadata": {},
   "outputs": [],
   "source": []
  },
  {
   "cell_type": "markdown",
   "metadata": {},
   "source": [
    "Zadanie 18. Mamy dane dwa ciągi A,B o następujących zależnościach:\n",
    "\n",
    "A:a0 =0,a1 =1,an =an−1−bn−1∗an−2\n",
    "B: b0 = 2, bn = bn−1 + 2 ∗ an−1\n",
    "\n",
    "Proszę napisać program, który czyta liczby typu int ze standardowego wejścia i tak długo jak liczby te są kolejnymi wyrazami ciągu An (tj. a0,a1,a2, ...) wypisuje na standardowe wyjście wyrazy drugiego ciągu Bn (tj. b0, b1, b2, ...)."
   ]
  },
  {
   "cell_type": "code",
   "execution_count": null,
   "metadata": {},
   "outputs": [],
   "source": []
  },
  {
   "cell_type": "markdown",
   "metadata": {},
   "source": [
    "Zadanie 19. Napisać program wczytujący dwie liczby naturalne a,b i wypisujący rozwinięcie dziesiętne ułamka a/b w postaci ułamka okresowego. Na przykład 1/3 = 0.(3), 1/6 = 0.1(6), 1/7 = 0.(142857)"
   ]
  },
  {
   "cell_type": "code",
   "execution_count": null,
   "metadata": {},
   "outputs": [],
   "source": []
  },
  {
   "cell_type": "code",
   "execution_count": null,
   "metadata": {},
   "outputs": [],
   "source": []
  }
 ],
 "metadata": {
  "kernelspec": {
   "display_name": "Python 3.10.7 64-bit",
   "language": "python",
   "name": "python3"
  },
  "language_info": {
   "codemirror_mode": {
    "name": "ipython",
    "version": 3
   },
   "file_extension": ".py",
   "mimetype": "text/x-python",
   "name": "python",
   "nbconvert_exporter": "python",
   "pygments_lexer": "ipython3",
   "version": "3.10.7"
  },
  "orig_nbformat": 4,
  "vscode": {
   "interpreter": {
    "hash": "aee8b7b246df8f9039afb4144a1f6fd8d2ca17a180786b69acc140d282b71a49"
   }
  }
 },
 "nbformat": 4,
 "nbformat_minor": 2
}
