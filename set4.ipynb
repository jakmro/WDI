{
 "cells": [
  {
   "cell_type": "markdown",
   "metadata": {},
   "source": [
    "Zadanie 1. Dana jest tablica T[N][N]. Proszę napisać funkcję wypełniającą tablicę kolejnymi liczbami naturalnymi po spirali."
   ]
  },
  {
   "cell_type": "code",
   "execution_count": 89,
   "metadata": {},
   "outputs": [
    {
     "data": {
      "text/plain": [
       "[[1, 2, 3, 4, 5],\n",
       " [16, 17, 18, 19, 6],\n",
       " [15, 24, 25, 20, 7],\n",
       " [14, 23, 22, 21, 8],\n",
       " [13, 12, 11, 10, 9]]"
      ]
     },
     "execution_count": 89,
     "metadata": {},
     "output_type": "execute_result"
    }
   ],
   "source": [
    "def make_spiral(arr):\n",
    "    N = len(arr)\n",
    "\n",
    "    a = 0\n",
    "    b = N - 1\n",
    "    x = 0\n",
    "\n",
    "    while a <= b:\n",
    "        for i in range(a, b + 1):\n",
    "            arr[a][i] = x = x + 1\n",
    "\n",
    "        for i in range(a + 1, b):\n",
    "            arr[i][b] = x = x + 1\n",
    "\n",
    "        for i in range(b, a, -1):\n",
    "            arr[b][i] = x = x + 1\n",
    "\n",
    "        for i in range(b, a, -1):\n",
    "            arr[i][a] = x = x + 1\n",
    "\n",
    "        a, b = a + 1, b - 1\n",
    "\n",
    "    return arr\n",
    "\n",
    "\n",
    "n = 5\n",
    "t = [[0 for _ in range(n)] for _ in range(n)]\n",
    "\n",
    "make_spiral(t)\n"
   ]
  },
  {
   "cell_type": "markdown",
   "metadata": {},
   "source": [
    "\n",
    "Zadanie 2. Dana jest tablica T[N][N] wypełniona liczbami naturalnymi. Proszę napisać funkcję, która odpowiada na pytanie, czy w każdym wierszu tablicy występuje co najmniej jedna liczba złożona wyłącznie z nieparzystych cyfr."
   ]
  },
  {
   "cell_type": "code",
   "execution_count": 32,
   "metadata": {},
   "outputs": [
    {
     "data": {
      "text/plain": [
       "True"
      ]
     },
     "execution_count": 32,
     "metadata": {},
     "output_type": "execute_result"
    }
   ],
   "source": [
    "def odd_digits(n):\n",
    "    while n > 0:\n",
    "        last_digit = n % 10\n",
    "        n //= 10\n",
    "        if last_digit % 2 == 0:\n",
    "            return False\n",
    "\n",
    "    return True\n",
    "\n",
    "\n",
    "def odd_in_row(arr):\n",
    "    for row in arr:\n",
    "        flag = False\n",
    "        for j in row:\n",
    "            if odd_digits(j):\n",
    "                flag = True\n",
    "                break\n",
    "        if not flag:\n",
    "            return False\n",
    "\n",
    "    return True\n",
    "\n",
    "\n",
    "t = [[1, 2, 3], [1, 2, 4], [4, 5, 8]]\n",
    "odd_in_row(t)\n"
   ]
  },
  {
   "cell_type": "markdown",
   "metadata": {},
   "source": [
    "\n",
    "Zadanie 3. Dana jest tablica T[N][N] wypełniona liczbami naturalnymi. Proszę napisać funkcję, która odpowiada na pytanie, czy istnieje wiersz w tablicy w którym każda z liczb zawiera przynajmniej jedna cyfrę parzystą."
   ]
  },
  {
   "cell_type": "code",
   "execution_count": 35,
   "metadata": {},
   "outputs": [
    {
     "data": {
      "text/plain": [
       "True"
      ]
     },
     "execution_count": 35,
     "metadata": {},
     "output_type": "execute_result"
    }
   ],
   "source": [
    "def has_even_digits(n):\n",
    "    while n > 0:\n",
    "        last_digit = n % 10\n",
    "        n //= 10\n",
    "        if last_digit % 2 == 0:\n",
    "            return True\n",
    "\n",
    "    return False\n",
    "\n",
    "\n",
    "def odd_in_row(arr):\n",
    "    for row in arr:\n",
    "        flag = True\n",
    "        for j in row:\n",
    "            if has_even_digits(j) == False:\n",
    "                flag = False\n",
    "                break\n",
    "        if flag:\n",
    "            return True\n",
    "\n",
    "    return False\n",
    "\n",
    "\n",
    "t = [[1, 2, 3], [21, 2, 4], [4, 5, 8]]\n",
    "odd_in_row(t)\n"
   ]
  },
  {
   "cell_type": "markdown",
   "metadata": {},
   "source": [
    "Zadanie 4. Dana jest tablica T[N][N] wypełniona liczbami naturalnymi. Proszę napisać funkcję, która zwraca wiersz i kolumnę dowolnego elementu, dla którego iloraz sumy elementów w kolumnie w którym leży element do sumy elementów wiersza w którym leży element jest największa."
   ]
  },
  {
   "cell_type": "code",
   "execution_count": 80,
   "metadata": {},
   "outputs": [
    {
     "data": {
      "text/plain": [
       "(0, 1)"
      ]
     },
     "execution_count": 80,
     "metadata": {},
     "output_type": "execute_result"
    }
   ],
   "source": [
    "def col_row(arr):\n",
    "    N = len(arr)\n",
    "    vertical = [0 for _ in range(N)]\n",
    "    horizontal = [0 for _ in range(N)]\n",
    "\n",
    "    for i in range(N):\n",
    "        for j in range(N):\n",
    "            horizontal[i] += arr[i][j]\n",
    "            vertical[i] += arr[j][i]\n",
    "\n",
    "    g_maxi = g_mini = g_i = g_j = 0\n",
    "\n",
    "    for i in range(N):\n",
    "        if vertical[i] > g_maxi:\n",
    "            g_maxi, g_j = vertical[i], i\n",
    "\n",
    "        if horizontal[i] < g_mini:\n",
    "            g_mini, g_i = horizontal[i], i\n",
    "\n",
    "    return g_i, g_j\n",
    "\n",
    "\n",
    "t = [\n",
    "    [1, 2, 3],\n",
    "    [21, 100, 4],\n",
    "    [4, 5, 8]\n",
    "]\n",
    "col_row(t)\n"
   ]
  },
  {
   "cell_type": "markdown",
   "metadata": {},
   "source": [
    "Zadanie 5. Poprzednie zadanie z tablicą wypełnioną liczbami całkowitymi."
   ]
  },
  {
   "cell_type": "code",
   "execution_count": 81,
   "metadata": {},
   "outputs": [
    {
     "data": {
      "text/plain": [
       "(0, 1)"
      ]
     },
     "execution_count": 81,
     "metadata": {},
     "output_type": "execute_result"
    }
   ],
   "source": [
    "def col_row(arr):\n",
    "    N = len(arr)\n",
    "    column = [0 for _ in range(N)]\n",
    "    row = [0 for _ in range(N)]\n",
    "\n",
    "    for i in range(N):\n",
    "        for j in range(N):\n",
    "            row[i] += arr[i][j]\n",
    "            column[i] += arr[j][i]\n",
    "\n",
    "    maxp = maxn = 0\n",
    "    minp = 10 ** 10\n",
    "    minn = -10 ** 10\n",
    "\n",
    "    i_p = j_p = i_n = j_n = 0\n",
    "\n",
    "    for i in range(N):\n",
    "        if column[i] > maxp:\n",
    "            maxp, j_p = column[i], i\n",
    "\n",
    "        if row[i] > 0 and row[i] < minp:\n",
    "            minp, i_p = row[i], i\n",
    "\n",
    "        if row[i] < 0 and row[i] > minn:\n",
    "            minn, i_n = row[i], i\n",
    "\n",
    "        if column[i] < maxn:\n",
    "            maxn, j_n = column[i], i\n",
    "\n",
    "    if minn == 0:\n",
    "        return i_p, j_p\n",
    "\n",
    "    if minp == 0:\n",
    "        return i_n, j_n\n",
    "\n",
    "    g_i, g_j = (i_p, j_p) if maxp / minp > maxn / minn else (i_n, j_n)\n",
    "\n",
    "    return g_i, g_j\n",
    "\n",
    "\n",
    "t = [\n",
    "    [1, -2, -3],\n",
    "    [21, -100, 4],\n",
    "    [4, 5, 8]\n",
    "]\n",
    "col_row(t)\n"
   ]
  },
  {
   "cell_type": "markdown",
   "metadata": {},
   "source": [
    "\n",
    "Zadanie 6. Dane są dwie tablice mogące pomieścić taką samą liczbę elementów: T1[N][N] i T2[M], gdzie M=N*N. W każdym wierszu tablicy T1 znajdują się uporządkowane rosnąco (w obrębie wiersza) liczby naturalne. Proszę napisać funkcję przepisującą wszystkie singletony (liczby występujące dokładnie raz) z tablicy T1 do T2, tak aby liczby w tablicy T2 były uporządkowane rosnąco. Pozostałe elementy tablicy T2 powinny zawierać zera."
   ]
  },
  {
   "cell_type": "code",
   "execution_count": 99,
   "metadata": {},
   "outputs": [
    {
     "data": {
      "text/plain": [
       "[1, 2, 3, 4, 5, 6, 7, 8, 9, 10, 11, 13, 14, 16, 0, 0]"
      ]
     },
     "execution_count": 99,
     "metadata": {},
     "output_type": "execute_result"
    }
   ],
   "source": [
    "def linear_arr(mx, arr):\n",
    "    n = len(mx)\n",
    "    pointers = [0 for _ in range(n)]\n",
    "\n",
    "    nums_checked = 0\n",
    "    ind = 0\n",
    "\n",
    "    while nums_checked < n * n:\n",
    "        mini = 10 ** 10\n",
    "        min_ind = 0\n",
    "        cnt = 0\n",
    "\n",
    "        for i in range(n):\n",
    "            if pointers[i] >= n:\n",
    "                continue\n",
    "\n",
    "            if mx[i][pointers[i]] < mini:\n",
    "                mini = mx[i][pointers[i]]\n",
    "                min_ind = i\n",
    "                cnt = 1\n",
    "            elif mx[i][pointers[i]] == mini:\n",
    "                pointers[i] += 1\n",
    "                nums_checked += 1\n",
    "                cnt += 1\n",
    "\n",
    "        if cnt == 1:\n",
    "            arr[ind] = mx[min_ind][pointers[min_ind]]\n",
    "            ind += 1\n",
    "\n",
    "        pointers[min_ind] += 1\n",
    "        nums_checked += 1\n",
    "\n",
    "    return arr\n",
    "\n",
    "\n",
    "mx = [\n",
    "    [1, 2, 3, 4],\n",
    "    [5, 6, 7, 8],\n",
    "    [9, 10, 11, 15],\n",
    "    [13, 14, 15, 16],\n",
    "]\n",
    "\n",
    "arr = [0 for _ in range(len(mx) * len(mx))]\n",
    "\n",
    "linear_arr(mx, arr)\n"
   ]
  },
  {
   "cell_type": "markdown",
   "metadata": {},
   "source": [
    "Zadanie 7. Dane są dwie tablice mogące pomieścić taką samą liczbę elementów: T1[N][N] i T2[M], gdzie M=N*N. W każdym wierszu tablicy T1 znajdują się uporządkowane niemalejąco (w obrębie wiersza) liczby naturalne. Proszę napisać funkcję przepisującą wszystkie liczby z tablicy T1 do T2, tak aby liczby w tablicy T2 były uporządkowane niemalejąco.\n"
   ]
  },
  {
   "cell_type": "code",
   "execution_count": 104,
   "metadata": {},
   "outputs": [
    {
     "data": {
      "text/plain": [
       "[1, 2, 3, 4, 5, 6, 7, 8, 9, 10, 11, 13, 14, 15, 15, 16]"
      ]
     },
     "execution_count": 104,
     "metadata": {},
     "output_type": "execute_result"
    }
   ],
   "source": [
    "def increasing_arr(mx, arr):\n",
    "    n = len(mx)\n",
    "\n",
    "    pointers = [0 for _ in range(n)]\n",
    "    ind = 0\n",
    "\n",
    "    for _ in range(n * n):\n",
    "        mini = 10 ** 10\n",
    "        mini_cnt = 0\n",
    "        min_ind = 0\n",
    "\n",
    "        for i in range(n):\n",
    "            if pointers[i] < n and mx[i][pointers[i]] < mini:\n",
    "                mini = mx[i][pointers[i]]\n",
    "\n",
    "        for i in range(n):\n",
    "            if pointers[i] < n and mx[i][pointers[i]] == mini:\n",
    "                mini_cnt += 1\n",
    "                pointers[i] += 1\n",
    "\n",
    "        for _ in range(mini_cnt):\n",
    "            arr[ind] = mini\n",
    "            ind += 1\n",
    "\n",
    "    return arr\n",
    "\n",
    "\n",
    "mx = [\n",
    "    [1, 2, 3, 4],\n",
    "    [5, 6, 7, 8],\n",
    "    [9, 10, 11, 15],\n",
    "    [13, 14, 15, 16],\n",
    "]\n",
    "\n",
    "arr = [0 for _ in range(len(mx) * len(mx))]\n",
    "\n",
    "increasing_arr(mx, arr)\n"
   ]
  },
  {
   "cell_type": "markdown",
   "metadata": {},
   "source": [
    "Zadanie 8. Dana jest tablica T[N][N] wypełniona liczbami naturalnymi. Proszę napisać funkcję, która w poszukuje w tablicy najdłuższego ciągu geometrycznego leżącego ukośnie w kierunku prawo-dół, liczącego co najmniej 3 elementy. Do funkcji należy przekazać tablicę. Funkcja powinna zwrócić informacje czy udało się znaleźć taki ciąg oraz długość tego ciągu."
   ]
  },
  {
   "cell_type": "code",
   "execution_count": null,
   "metadata": {},
   "outputs": [],
   "source": []
  },
  {
   "cell_type": "markdown",
   "metadata": {},
   "source": [
    "Zadanie 9. Dana jest tablica T[N][N] wypełniona liczbami naturalnymi. Proszę napisać funkcję, która w poszukuje w tablicy kwadratu o liczbie pól będącej liczbą nieparzystą większą od 1, którego iloczyn 4 pól narożnych wynosi k. Do funkcji należy przekazać tablicę i wartość k. Funkcja powinna zwrócić informacje czy udało się znaleźć kwadrat oraz współrzędne (wiersz, kolumna) środka kwadratu."
   ]
  },
  {
   "cell_type": "code",
   "execution_count": null,
   "metadata": {},
   "outputs": [],
   "source": []
  },
  {
   "cell_type": "markdown",
   "metadata": {},
   "source": [
    "\n",
    "Zadanie 10. Napisać funkcję która dla tablicy T[N][N], wypełnionej liczbami całkowitymi, zwraca wartość True w przypadku, gdy w każdym wierszu i każdej kolumnie występuje co najmniej jedno 0 oraz wartość False w przeciwnym przypadku."
   ]
  },
  {
   "cell_type": "code",
   "execution_count": null,
   "metadata": {},
   "outputs": [],
   "source": []
  },
  {
   "cell_type": "markdown",
   "metadata": {},
   "source": [
    "\n",
    "Zadanie 11. Dwie liczby naturalne są „przyjaciółkami jeżeli zbiory cyfr z których zbudowane są liczby są identyczne. Na przykład: 123 i 321, 211 i 122, 35 3553. Dana jest tablica T[N][N] wypełniona liczbami naturalnymi. Proszę napisać funkcję, która dla tablicy T zwraca ile elementów tablicy sąsiaduje wyłącznie z przyjaciółkami"
   ]
  },
  {
   "cell_type": "code",
   "execution_count": null,
   "metadata": {},
   "outputs": [],
   "source": []
  },
  {
   "cell_type": "markdown",
   "metadata": {},
   "source": [
    "\n",
    "Zadanie 12. Dana jest tablica T[N][N][N]. Proszę napisać funkcję, do której przekazujemy tablicę wypeł- nioną liczbami większymi od zera. Funkcja powinna zwracać wartość True, jeżeli na wszystkich poziomach tablicy liczba elementów sąsiadujących (w obrębia poziomu) z co najmniej 6 liczbami złożonymi jest jedna- kowa albo wartość False w przeciwnym przypadku."
   ]
  },
  {
   "cell_type": "code",
   "execution_count": null,
   "metadata": {},
   "outputs": [],
   "source": []
  },
  {
   "cell_type": "markdown",
   "metadata": {},
   "source": [
    "\n",
    "Zadanie 13. Liczby naturalne a,b są komplementarne jeżeli ich suma jest liczbą pierwszą. Dana jest tablica T[N][N] wypełniona liczbami naturalnymi. Proszę napisać funkcję, która zeruje elementy nie posiadające liczby komplementarnej.\n"
   ]
  },
  {
   "cell_type": "code",
   "execution_count": 24,
   "metadata": {},
   "outputs": [
    {
     "data": {
      "text/plain": [
       "[[1, 2, 4, 0], [1, 2, 4, 0], [1, 2, 4, 0], [1, 2, 4, 0]]"
      ]
     },
     "execution_count": 24,
     "metadata": {},
     "output_type": "execute_result"
    }
   ],
   "source": [
    "def is_prime(n):\n",
    "    if n < 2:\n",
    "        return False\n",
    "\n",
    "    if n == 2 or n == 3:\n",
    "        return True\n",
    "\n",
    "    if n % 2 == 0 or n % 3 == 0:\n",
    "        return False\n",
    "\n",
    "    d = 5\n",
    "\n",
    "    while d * d <= n:\n",
    "        if n % d == 0:\n",
    "            return False\n",
    "\n",
    "        d += 2\n",
    "\n",
    "        if n % d == 0:\n",
    "            return False\n",
    "\n",
    "        d += 4\n",
    "\n",
    "    return True\n",
    "\n",
    "\n",
    "def zero_not_complementary(mx):\n",
    "    n = len(mx)\n",
    "\n",
    "    arr = [[0 for _ in range(n)] for _ in range(n)]\n",
    "\n",
    "    for i in range(n * n):\n",
    "        ri, ci = i // n, i % n\n",
    "        if arr[ri][ci] == 0:\n",
    "            for j in range(i + 1, n * n):\n",
    "                rj, cj = j // n, j % n\n",
    "                if (ri != rj or ci != cj) and is_prime(mx[ri][ci] + mx[rj][cj]):\n",
    "                    arr[ri][ci] = mx[ri][ci]\n",
    "                    arr[rj][cj] = mx[rj][cj]\n",
    "\n",
    "    return arr\n",
    "\n",
    "\n",
    "mx = [\n",
    "    [1, 2, 4, 8],\n",
    "    [1, 2, 4, 8],\n",
    "    [1, 2, 4, 8],\n",
    "    [1, 2, 4, 8],\n",
    "]\n",
    "\n",
    "zero_not_complementary(mx)\n"
   ]
  },
  {
   "cell_type": "markdown",
   "metadata": {},
   "source": [
    "\n",
    "Zadanie 14. Dwie liczby naturalne są zgodne jeżeli w zapisie dwójkowym zawierają tę samą liczbę jedynek, np. 22 = 10110(2) i 14 = 1110(2). Dane są tablice T1[N1][N1] T2[N2][N2], gdzie N2>=N1. Proszę napisać funkcję, która sprawdza czy istnieje takie położenie tablicy T1 wewnątrz tablicy T2, przy którym liczba zgodnych elementów jest większa od 33%. Do funkcji należy przekazać tablicę T1 i T2. Obie oryginalne tablice powinny pozostać nie zmieniane.\n"
   ]
  },
  {
   "cell_type": "code",
   "execution_count": 9,
   "metadata": {},
   "outputs": [
    {
     "data": {
      "text/plain": [
       "True"
      ]
     },
     "execution_count": 9,
     "metadata": {},
     "output_type": "execute_result"
    }
   ],
   "source": [
    "def binary_ones(a):\n",
    "    cnt = 0\n",
    "\n",
    "    while a > 0:\n",
    "        if a % 2 == 1:\n",
    "            cnt += 1\n",
    "\n",
    "        a //= 2\n",
    "\n",
    "    return cnt\n",
    "\n",
    "\n",
    "def check_percent(a, b, t1, t2):\n",
    "    n2 = len(t2)\n",
    "    n1 = len(t1)\n",
    "    cnt = 0\n",
    "\n",
    "    for i in range(n1):\n",
    "        for j in range(n1):\n",
    "            if binary_ones(t2[i+a][j+b]) == binary_ones(t1[i][j]):\n",
    "                cnt += 1\n",
    "\n",
    "    return cnt / n1 ** 2\n",
    "\n",
    "\n",
    "def connected_33(t1, t2):\n",
    "    n2 = len(t2)\n",
    "    n1 = len(t1)\n",
    "\n",
    "    for i in range(n2 - n1 + 1):\n",
    "        for j in range(n2 - n1 + 1):\n",
    "            percent = check_percent(i, j, t1, t2)\n",
    "            if percent > 0.33:\n",
    "                return True\n",
    "\n",
    "    return False\n",
    "\n",
    "\n",
    "t1 = [\n",
    "    [1, 2],\n",
    "    [1, 3],\n",
    "]\n",
    "\n",
    "t2 = [\n",
    "    [1, 2],\n",
    "    [1, 2],\n",
    "]\n",
    "\n",
    "connected_33(t1, t2)\n"
   ]
  },
  {
   "cell_type": "markdown",
   "metadata": {},
   "source": [
    "\n",
    "Zadanie 15. Dana jest tablica T[N][N], wypełniona liczbami naturalnymi. Proszę napisać funkcję, która odpowiada na pytanie, czy w tablicy istnieje wiersz, w którym każda liczba zawiera co najmniej jedną cyfrę będącą liczbą pierwszą?"
   ]
  },
  {
   "cell_type": "code",
   "execution_count": 52,
   "metadata": {},
   "outputs": [
    {
     "data": {
      "text/plain": [
       "True"
      ]
     },
     "execution_count": 52,
     "metadata": {},
     "output_type": "execute_result"
    }
   ],
   "source": [
    "def has_one_prime_digit(n):\n",
    "    while n > 0:\n",
    "        d = n % 10\n",
    "        n //= 10\n",
    "        if d == 2 or d == 3 or d == 5 or d == 7:\n",
    "            return True\n",
    "\n",
    "    return False\n",
    "\n",
    "\n",
    "def row_num_prime_digit(mx):\n",
    "    n = len(mx)\n",
    "    flag = False\n",
    "\n",
    "    for row in mx:\n",
    "        for i in row:\n",
    "            if not has_one_prime_digit(i):\n",
    "                break\n",
    "        else:\n",
    "            flag = True\n",
    "\n",
    "    return flag\n",
    "\n",
    "\n",
    "mx = [\n",
    "    [11, 11, 11, 11],\n",
    "    [121, 121, 21, 171],\n",
    "    [11, 11, 11, 11],\n",
    "    [11, 11, 11, 11],\n",
    "]\n",
    "\n",
    "row_num_prime_digit(mx)\n"
   ]
  },
  {
   "cell_type": "markdown",
   "metadata": {},
   "source": [
    "\n",
    "Zadanie 16. Dana jest tablica T[N][N], wypełniona liczbami naturalnymi. Proszę napisać funkcję która odpowiada na pytanie, czy w tablicy każdy wiersz zawiera co najmniej jedną liczbą złożoną wyłącznie z cyfr będących liczbami pierwszymi?\n"
   ]
  },
  {
   "cell_type": "code",
   "execution_count": 46,
   "metadata": {},
   "outputs": [
    {
     "data": {
      "text/plain": [
       "True"
      ]
     },
     "execution_count": 46,
     "metadata": {},
     "output_type": "execute_result"
    }
   ],
   "source": [
    "def prime_digits(n):\n",
    "    while n > 0:\n",
    "        d = n % 10\n",
    "        n //= 10\n",
    "        if d != 2 and d != 3 and d != 5 and d != 7:\n",
    "            return False\n",
    "\n",
    "    return True\n",
    "\n",
    "\n",
    "def row_num_prime_digit(mx):\n",
    "    n = len(mx)\n",
    "\n",
    "    for row in mx:\n",
    "        for i in row:\n",
    "            if prime_digits(i):\n",
    "                break\n",
    "        else:\n",
    "            return False\n",
    "\n",
    "    return True\n",
    "\n",
    "\n",
    "mx = [\n",
    "    [22, 21, 21, 21],\n",
    "    [12, 23, 21, 21],\n",
    "    [12, 27, 22, 21],\n",
    "    [12, 25, 21, 21],\n",
    "]\n",
    "\n",
    "row_num_prime_digit(mx)\n"
   ]
  },
  {
   "cell_type": "markdown",
   "metadata": {},
   "source": [
    "\n",
    "Zadanie 17. Dana jest tablica T[N][N] wypełniona liczbami naturalnymi. Proszę napisać funkcję która zwraca wiersz i kolumnę dowolnego elementu, dla którego suma otaczających go elementów jest największa."
   ]
  },
  {
   "cell_type": "code",
   "execution_count": 38,
   "metadata": {},
   "outputs": [
    {
     "data": {
      "text/plain": [
       "(2, 2)"
      ]
     },
     "execution_count": 38,
     "metadata": {},
     "output_type": "execute_result"
    }
   ],
   "source": [
    "def max_neigh(arr):\n",
    "    n = len(arr)\n",
    "    neigh_sum = 0\n",
    "    g_i = g_j = 0\n",
    "\n",
    "    for i in range(n):\n",
    "        for j in range(n):\n",
    "            _sum = 0\n",
    "\n",
    "            if i - 1 >= 0 and j - 1 >= 0:\n",
    "                _sum += arr[i-1][j-1]\n",
    "            if i + 1 < n and j - 1 >= 0:\n",
    "                _sum += arr[i+1][j-1]\n",
    "            if i - 1 >= 0 and j + 1 < n:\n",
    "                _sum += arr[i-1][j+1]\n",
    "            if i + 1 < n and j + 1 < n:\n",
    "                _sum += arr[i+1][j+1]\n",
    "\n",
    "            if i - 1 >= 0:\n",
    "                _sum += arr[i-1][j]\n",
    "            if j - 1 >= 0:\n",
    "                _sum += arr[i][j-1]\n",
    "            if i + 1 < n:\n",
    "                _sum += arr[i+1][j]\n",
    "            if j + 1 < n:\n",
    "                _sum += arr[i][j + 1]\n",
    "\n",
    "            if _sum > neigh_sum:\n",
    "                neigh_sum = _sum\n",
    "                g_i, g_j = i, j\n",
    "\n",
    "    return g_i, g_j\n",
    "\n",
    "\n",
    "mx = [\n",
    "    [1, 2, 3, 4],\n",
    "    [1, 2, 3, 4],\n",
    "    [1, 2, 3, 4],\n",
    "    [1, 2, 5, 4],\n",
    "]\n",
    "max_neigh(mx)\n"
   ]
  },
  {
   "cell_type": "markdown",
   "metadata": {},
   "source": [
    "Zadanie 18. Dana jest tablica T[N][N] wypełniona liczbami całkowitymi. Proszę napisać funkcję, która wyszuka spójny podciąg elementów leżący poziomo lub pionowo o największej sumie. Maksymalna długość podciągu może wynosić 10 elementów. Do funkcji należy przekazać tablicę T, funkcja powinna zwrócić sumę maksymalnego podciągu."
   ]
  },
  {
   "cell_type": "code",
   "execution_count": 33,
   "metadata": {},
   "outputs": [
    {
     "data": {
      "text/plain": [
       "300"
      ]
     },
     "execution_count": 33,
     "metadata": {},
     "output_type": "execute_result"
    }
   ],
   "source": [
    "def max_subsequence(mx):\n",
    "    n = len(mx)\n",
    "    max_sum = 0\n",
    "\n",
    "    for i in range(n):\n",
    "        sum_row = sum_col = cnt_row = cnt_col = 0\n",
    "        for j in range(n):\n",
    "            sum_row += mx[i][j]\n",
    "            cnt_row += 1\n",
    "\n",
    "            if cnt_row > 10:\n",
    "                sum_row -= mx[i][j - 10]\n",
    "                cnt_row -= 1\n",
    "\n",
    "            sum_col += mx[j][i]\n",
    "            cnt_col += 1\n",
    "\n",
    "            if cnt_col > 10:\n",
    "                sum_col -= mx[j - 10][i]\n",
    "                cnt_col -= 1\n",
    "\n",
    "            max_sum = max(max_sum, sum_row, sum_col)\n",
    "\n",
    "    return max_sum\n",
    "\n",
    "\n",
    "t = [\n",
    "    [1, 100, 1],\n",
    "    [1, 100, 1],\n",
    "    [1, 100, 3],\n",
    "]\n",
    "max_subsequence(t)\n"
   ]
  },
  {
   "cell_type": "markdown",
   "metadata": {},
   "source": [
    "\n",
    "Zadanie 19. Dana jest tablica T[N][N] wypełniona liczbami naturalnymi. Proszę napisać funkcję, która zwraca liczbę par elementów, o określonym iloczynie, takich że elementy są odległe o jeden ruch skoczka szachowego."
   ]
  },
  {
   "cell_type": "code",
   "execution_count": 16,
   "metadata": {},
   "outputs": [
    {
     "data": {
      "text/plain": [
       "4"
      ]
     },
     "execution_count": 16,
     "metadata": {},
     "output_type": "execute_result"
    }
   ],
   "source": [
    "def knight(arr, product):\n",
    "    n = len(arr)\n",
    "    cnt = 0\n",
    "\n",
    "    for i in range(n * n):\n",
    "        r, c = i // n, i % n\n",
    "        p = arr[r][c]\n",
    "\n",
    "        if r + 1 < n and c + 2 < n and arr[r + 1][c + 2] * p == product:\n",
    "            cnt += 1\n",
    "        if r + 1 < n and c - 2 >= 0 and arr[r + 1][c - 2] * p == product:\n",
    "            cnt += 1\n",
    "        if r - 1 >= 0 and c + 2 < n and arr[r - 1][c + 2] * p == product:\n",
    "            cnt += 1\n",
    "        if r - 1 >= 0 and c - 2 >= 0 and arr[r - 1][c - 2] * p == product:\n",
    "            cnt += 1\n",
    "\n",
    "        if r + 2 < n and c + 1 < n and arr[r + 2][c + 1] * p == product:\n",
    "            cnt += 1\n",
    "        if r + 2 < n and c - 1 >= 0 and arr[r + 2][c - 1] * p == product:\n",
    "            cnt += 1\n",
    "        if r - 2 >= 0 and c + 1 < n and arr[r - 2][c + 1] * p == product:\n",
    "            cnt += 1\n",
    "        if r - 2 >= 0 and c - 1 >= 0 and arr[r - 2][c - 1] * p == product:\n",
    "            cnt += 1\n",
    "\n",
    "    return cnt\n",
    "\n",
    "\n",
    "mx = [\n",
    "    [1, 2, 3],\n",
    "    [1, 2, 3],\n",
    "    [1, 2, 3],\n",
    "]\n",
    "knight(mx, 2)\n"
   ]
  },
  {
   "cell_type": "markdown",
   "metadata": {},
   "source": [
    "Zadanie 20. Dana jest tablica T[N][N] (reprezentująca szachownicę) wypełniona liczbami naturalnymi. Proszę napisać funkcję która ustawia na szachownicy dwie wieże, tak aby suma liczb na „szachowanych” przez wieże polach była największa. Do funkcji należy przekazać tablicę, funkcja powinna zwrócić położenie wież. Uwaga- zakładamy, że wieża szachuje cały wiersz i kolumnę z wyłączeniem pola na którym stoi"
   ]
  },
  {
   "cell_type": "code",
   "execution_count": 91,
   "metadata": {},
   "outputs": [
    {
     "data": {
      "text/plain": [
       "([1, 2], [2, 3])"
      ]
     },
     "execution_count": 91,
     "metadata": {},
     "output_type": "execute_result"
    }
   ],
   "source": [
    "def max_points(arr):\n",
    "    N = len(arr)\n",
    "    column = [0 for _ in range(N)]\n",
    "    row = [0 for _ in range(N)]\n",
    "\n",
    "    for i in range(N):\n",
    "        for j in range(N):\n",
    "            row[i] += arr[i][j]\n",
    "            column[i] += arr[j][i]\n",
    "\n",
    "    g_sum = 0\n",
    "    pos_i = [0, 0]\n",
    "    pos_j = [0, 0]\n",
    "\n",
    "    for i in range(N * N):\n",
    "        ri, ci = i // N, i % N\n",
    "\n",
    "        for j in range(i + 1, N * N):\n",
    "            rj, cj = j // N, j % N\n",
    "\n",
    "            sum_ = 0\n",
    "\n",
    "            if ri == rj:\n",
    "                sum_ = row[ri] + column[ci] + column[cj] - \\\n",
    "                    2 * arr[ri][ci] - 2 * arr[rj][cj]\n",
    "            elif ci == cj:\n",
    "                sum_ = column[ci] + row[ri] + row[rj] - \\\n",
    "                    2 * arr[ri][ci] - 2 * arr[rj][cj]\n",
    "            else:\n",
    "                sum_ = row[ri] + row[rj] + column[ci] + column[cj] - 2 * \\\n",
    "                    arr[ri][ci] - 2 * arr[rj][cj] - arr[ri][cj] - arr[rj][ci]\n",
    "\n",
    "            if sum_ > g_sum:\n",
    "                g_sum = sum_\n",
    "                pos_i = [ri, ci]\n",
    "                pos_j = [rj, cj]\n",
    "\n",
    "    return pos_i, pos_j\n",
    "\n",
    "\n",
    "arr = [\n",
    "    [1, 2, 3, 4],\n",
    "    [1, 100, 3, 4],\n",
    "    [1, 20, 3, 4],\n",
    "    [1, 2, 3, 4],\n",
    "]\n",
    "\n",
    "max_points(arr)\n"
   ]
  }
 ],
 "metadata": {
  "kernelspec": {
   "display_name": "Python 3.11.0 64-bit",
   "language": "python",
   "name": "python3"
  },
  "language_info": {
   "codemirror_mode": {
    "name": "ipython",
    "version": 3
   },
   "file_extension": ".py",
   "mimetype": "text/x-python",
   "name": "python",
   "nbconvert_exporter": "python",
   "pygments_lexer": "ipython3",
   "version": "3.11.0"
  },
  "orig_nbformat": 4,
  "vscode": {
   "interpreter": {
    "hash": "aee8b7b246df8f9039afb4144a1f6fd8d2ca17a180786b69acc140d282b71a49"
   }
  }
 },
 "nbformat": 4,
 "nbformat_minor": 2
}
