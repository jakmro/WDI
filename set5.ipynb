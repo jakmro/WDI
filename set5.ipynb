{
 "cells": [
  {
   "cell_type": "markdown",
   "metadata": {},
   "source": [
    "Zadanie 1. Liczby wymierne są reprezentowane przez krotkę (l,m). Gdzie: l - liczba całkowita oznaczająca licznik, m - liczba naturalna oznaczająca mianownik. Proszę napisać podstawowe operacje na ułamkach, m.in. dodawanie, odejmowanie, mnożenie, dzielenie, potęgowanie, skracanie, wypisywanie i wczytywanie."
   ]
  },
  {
   "cell_type": "code",
   "execution_count": 30,
   "metadata": {},
   "outputs": [
    {
     "name": "stdout",
     "output_type": "stream",
     "text": [
      "(1, 3)\n",
      "(5, 6)\n",
      "(1, 3)\n",
      "(1, 6)\n",
      "(2, 6)\n",
      "(4, 36)\n",
      "(1, 9)\n"
     ]
    }
   ],
   "source": [
    "def gcd(a, b):\n",
    "    while b:\n",
    "        a, b = b, a % b\n",
    "    return a\n",
    "\n",
    "\n",
    "def lcm(a, b):\n",
    "    return a * b // gcd(a, b)\n",
    "\n",
    "\n",
    "class Number():\n",
    "    def __init__(self, x, y=1):\n",
    "        self.x = x\n",
    "        self.y = y\n",
    "\n",
    "    def add(self, num, shrink=True):\n",
    "        self.x *= num.y\n",
    "        self.x += self.y * num.x\n",
    "        self.y *= num.y\n",
    "        if shrink:\n",
    "            self.shrink()\n",
    "\n",
    "    def substract(self, num, shrink=True):\n",
    "        self.x *= num.y\n",
    "        self.x -= self.y * num.x\n",
    "        self.y *= num.y\n",
    "        if shrink:\n",
    "            self.shrink()\n",
    "\n",
    "    def muliply(self, num, shrink=True):\n",
    "        self.x *= num.x\n",
    "        self.y *= num.y\n",
    "        if shrink:\n",
    "            self.shrink()\n",
    "\n",
    "    def divide(self, num, shrink=True):\n",
    "        self.x *= num.y\n",
    "        self.y *= num.x\n",
    "        if shrink:\n",
    "            self.shrink()\n",
    "\n",
    "    def power(self, n, shrink=True):\n",
    "        self.x **= n\n",
    "        self.y **= n\n",
    "        if shrink:\n",
    "            self.shrink()\n",
    "\n",
    "    def shrink(self):\n",
    "        g = gcd(self.x, self.y)\n",
    "        self.x //= g\n",
    "        self.y //= g\n",
    "\n",
    "    def print(self):\n",
    "        print(f'({self.x}, {self.y})')\n",
    "\n",
    "\n",
    "# usage\n",
    "num = Number(1, 3)\n",
    "num2 = Number(1, 2)\n",
    "num.print()\n",
    "\n",
    "num.add(num2)\n",
    "num.print()\n",
    "\n",
    "num.substract(num2)\n",
    "num.print()\n",
    "\n",
    "num.muliply(num2)\n",
    "num.print()\n",
    "\n",
    "num.divide(num2, shrink=False)\n",
    "num.print()\n",
    "\n",
    "num.power(2, shrink=False)\n",
    "num.print()\n",
    "\n",
    "num.shrink()\n",
    "num.print()\n"
   ]
  },
  {
   "cell_type": "markdown",
   "metadata": {},
   "source": [
    "Zadanie 2. Używając funkcji z poprzedniego zadania proszę napisać funkcję rozwiązującą układ 2 równań o 2 niewiadomych."
   ]
  },
  {
   "cell_type": "code",
   "execution_count": 46,
   "metadata": {},
   "outputs": [
    {
     "name": "stdout",
     "output_type": "stream",
     "text": [
      "x = (-1, 1)\n",
      "y = (2, 1)\n"
     ]
    }
   ],
   "source": [
    "# ax + by = c\n",
    "# dx + ey = f\n",
    "\n",
    "def gcd(a, b):\n",
    "    while b:\n",
    "        a, b = b, a % b\n",
    "    return a\n",
    "\n",
    "\n",
    "def multiply(a, b):\n",
    "    return (a[0] * b[0], a[1] * b[1])\n",
    "\n",
    "\n",
    "def substract(a, b):\n",
    "    return (a[0] * b[1] - a[1] * b[0], a[1] * b[1])\n",
    "\n",
    "\n",
    "def divide(a, b):\n",
    "    return (a[0] * b[1], a[1] * b[0])\n",
    "\n",
    "\n",
    "def shrink(num):\n",
    "    a, b = num\n",
    "    g = gcd(a, b)\n",
    "    return (a // g, b // g)\n",
    "\n",
    "\n",
    "a, b, c = [(int(x), 1) for x in input().split()]\n",
    "d, e, f = [(int(x), 1) for x in input().split()]\n",
    "\n",
    "det = substract(multiply(a, e), multiply(b, d))\n",
    "det_x = substract(multiply(c, e), multiply(b, f))\n",
    "det_y = substract(multiply(a, f), multiply(c, d))\n",
    "\n",
    "\n",
    "if det[0] == 0 and det_x[0] == 0 and det_y[0] == 0:\n",
    "    print('Infinity solutions')\n",
    "\n",
    "if det[0] == 0 and (det_x[0] != 0 or det_y[0] != 0):\n",
    "    print('No solutions')\n",
    "\n",
    "\n",
    "if det[0] != 0:\n",
    "    print(f'x = {shrink(divide(det_x, det))}')\n",
    "    print(f'y = {shrink(divide(det_y, det))}')\n"
   ]
  }
 ],
 "metadata": {
  "kernelspec": {
   "display_name": "Python 3.11.0 64-bit",
   "language": "python",
   "name": "python3"
  },
  "language_info": {
   "codemirror_mode": {
    "name": "ipython",
    "version": 3
   },
   "file_extension": ".py",
   "mimetype": "text/x-python",
   "name": "python",
   "nbconvert_exporter": "python",
   "pygments_lexer": "ipython3",
   "version": "3.11.0"
  },
  "orig_nbformat": 4,
  "vscode": {
   "interpreter": {
    "hash": "aee8b7b246df8f9039afb4144a1f6fd8d2ca17a180786b69acc140d282b71a49"
   }
  }
 },
 "nbformat": 4,
 "nbformat_minor": 2
}
