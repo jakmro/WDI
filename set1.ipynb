{
 "cells": [
  {
   "cell_type": "markdown",
   "metadata": {},
   "source": [
    "Zadanie 1. Proszę napisać program wypisujący elementy ciągu Fibonacciego mniejsze od miliona."
   ]
  },
  {
   "cell_type": "code",
   "execution_count": 11,
   "metadata": {},
   "outputs": [
    {
     "name": "stdout",
     "output_type": "stream",
     "text": [
      "1\n",
      "1\n",
      "2\n",
      "3\n",
      "5\n",
      "8\n",
      "13\n",
      "21\n",
      "34\n",
      "55\n",
      "89\n",
      "144\n",
      "233\n",
      "377\n",
      "610\n",
      "987\n",
      "1597\n",
      "2584\n",
      "4181\n",
      "6765\n",
      "10946\n",
      "17711\n",
      "28657\n",
      "46368\n",
      "75025\n",
      "121393\n",
      "196418\n",
      "317811\n",
      "514229\n",
      "832040\n"
     ]
    }
   ],
   "source": [
    "def fib_to(n):\n",
    "    a = b = 1\n",
    "\n",
    "    while a < n:\n",
    "        print(a)\n",
    "        b, a = a + b, b\n",
    "\n",
    "\n",
    "fib_to(1000000)\n"
   ]
  },
  {
   "cell_type": "markdown",
   "metadata": {},
   "source": [
    "Zadanie 2. Proszę znaleźć wyrazy początkowe zamiast 1, 1 o najmniejszej sumie, aby w ciągu analogicznym\n",
    "do ciągu Fibonacciego wystąpił wyraz równy numerowi bieżącego roku."
   ]
  },
  {
   "cell_type": "code",
   "execution_count": 2,
   "metadata": {},
   "outputs": [
    {
     "name": "stdout",
     "output_type": "stream",
     "text": [
      "53 4\n"
     ]
    }
   ],
   "source": [
    "def check_fib(a, b):\n",
    "    while a + b < 2022:\n",
    "        b, a = a + b, b\n",
    "    else:\n",
    "        if a + b == 2022:\n",
    "            return True\n",
    "\n",
    "    return False\n",
    "\n",
    "\n",
    "def find_smallest_sum():\n",
    "    res_a = res_b = res = 1000000\n",
    "\n",
    "    for a in range(0, 2022):\n",
    "        for b in range(1, 2022):\n",
    "            if check_fib(a, b):\n",
    "                if a + b < res:\n",
    "                    res = a + b\n",
    "                    res_a, res_b = a, b\n",
    "\n",
    "    print(res_a, res_b)\n",
    "\n",
    "\n",
    "find_smallest_sum()\n"
   ]
  },
  {
   "cell_type": "markdown",
   "metadata": {},
   "source": [
    "Zadanie 3. Proszę napisać program sprawdzający czy istnieje spójny podciąg ciągu Fibonacciego o zadanej sumie."
   ]
  },
  {
   "cell_type": "code",
   "execution_count": 2,
   "metadata": {},
   "outputs": [
    {
     "name": "stdout",
     "output_type": "stream",
     "text": [
      "True\n",
      "False\n"
     ]
    }
   ],
   "source": [
    "def exist_fib_with_sum(n):\n",
    "    a = b = 1\n",
    "    _sum = 0\n",
    "\n",
    "    while _sum < n:\n",
    "        _sum += a\n",
    "        a, b = b, a + b\n",
    "\n",
    "    a = b = 1\n",
    "\n",
    "    while _sum > n:\n",
    "        _sum -= a\n",
    "        a, b = b, a + b\n",
    "\n",
    "    return _sum == n\n",
    "\n",
    "\n",
    "print(exist_fib_with_sum(34))\n",
    "print(exist_fib_with_sum(100))\n"
   ]
  },
  {
   "cell_type": "markdown",
   "metadata": {},
   "source": [
    "Zadanie 4. Proszę napisać program obliczający pierwiastek całkowitoliczbowy z liczby naturalnej korzy- stając z zależności 1 + 3 + 5 + ... = n^2."
   ]
  },
  {
   "cell_type": "code",
   "execution_count": 4,
   "metadata": {},
   "outputs": [
    {
     "name": "stdout",
     "output_type": "stream",
     "text": [
      "6\n",
      "6\n",
      "7\n"
     ]
    }
   ],
   "source": [
    "def int_square_root(n):\n",
    "    i = _sum = 0\n",
    "\n",
    "    while _sum <= n:\n",
    "        _sum += 2 * i + 1\n",
    "        i += 1\n",
    "\n",
    "    i -= 1\n",
    "\n",
    "    return i\n",
    "\n",
    "\n",
    "print(int_square_root(36))\n",
    "print(int_square_root(37))\n",
    "print(int_square_root(49))\n"
   ]
  },
  {
   "cell_type": "markdown",
   "metadata": {},
   "source": [
    "Zadanie 5. Proszę napisać program wyznaczający pierwiastek kwadratowy ze wzoru Newtona."
   ]
  },
  {
   "cell_type": "code",
   "execution_count": 5,
   "metadata": {},
   "outputs": [
    {
     "name": "stdout",
     "output_type": "stream",
     "text": [
      "1.7320508075688772\n"
     ]
    }
   ],
   "source": [
    "def square_root(n):\n",
    "    x = 1.0\n",
    "\n",
    "    for i in range(100):\n",
    "        x = (x + n / x) / 2\n",
    "\n",
    "    return x\n",
    "\n",
    "\n",
    "print(square_root(3))\n"
   ]
  },
  {
   "cell_type": "markdown",
   "metadata": {},
   "source": [
    "Zadanie 6. Proszę napisać program rozwiązujący równanie x^x = 2020 metodą bisekcji."
   ]
  },
  {
   "cell_type": "code",
   "execution_count": 6,
   "metadata": {},
   "outputs": [
    {
     "name": "stdout",
     "output_type": "stream",
     "text": [
      "4.831687114201486\n"
     ]
    }
   ],
   "source": [
    "def search_for_x():\n",
    "    a = 1\n",
    "    b = 10\n",
    "    eps = 0.00000001\n",
    "\n",
    "    while abs(a - b) > eps:\n",
    "        x = (a + b) / 2\n",
    "        if x ** x > 2020:\n",
    "            b = x\n",
    "        else:\n",
    "            a = x\n",
    "\n",
    "    return x\n",
    "\n",
    "\n",
    "print(search_for_x())\n"
   ]
  },
  {
   "cell_type": "markdown",
   "metadata": {},
   "source": [
    "Zadanie 7. Proszę napisać program wczytujący liczbę naturalną z klawiatury i odpowiadający na pytanie, czy liczba ta jest iloczynem dowolnych dwóch kolejnych wyrazów ciągu Fibonacciego."
   ]
  },
  {
   "cell_type": "code",
   "execution_count": 9,
   "metadata": {},
   "outputs": [
    {
     "name": "stdout",
     "output_type": "stream",
     "text": [
      "True\n"
     ]
    }
   ],
   "source": [
    "# n = int(input())\n",
    "\n",
    "\n",
    "def is_fib_product(n):\n",
    "    a = b = 1\n",
    "\n",
    "    while a * b < n:\n",
    "        b, a = a + b, b\n",
    "    else:\n",
    "        if a * b == n:\n",
    "            return True\n",
    "\n",
    "    return False\n",
    "\n",
    "\n",
    "n = 15\n",
    "print(is_fib_product(n))\n"
   ]
  },
  {
   "cell_type": "markdown",
   "metadata": {},
   "source": [
    "Zadanie 8. Proszę napisać program sprawdzający czy zadana liczba jest pierwszą."
   ]
  },
  {
   "cell_type": "code",
   "execution_count": 8,
   "metadata": {},
   "outputs": [
    {
     "name": "stdout",
     "output_type": "stream",
     "text": [
      "True\n",
      "False\n"
     ]
    }
   ],
   "source": [
    "def is_prime(n):\n",
    "    if n < 2:\n",
    "        return False\n",
    "\n",
    "    if n == 2 or n == 3:\n",
    "        return True\n",
    "\n",
    "    if n % 2 == 0 or n % 3 == 0:\n",
    "        return False\n",
    "\n",
    "    d = 5\n",
    "\n",
    "    while d * d <= n:\n",
    "        if n % d == 0:\n",
    "            return False\n",
    "\n",
    "        d += 2\n",
    "\n",
    "        if n % d == 0:\n",
    "            return False\n",
    "\n",
    "        d += 4\n",
    "\n",
    "    return True\n",
    "\n",
    "\n",
    "print(is_prime(3))\n",
    "print(is_prime(4))\n"
   ]
  },
  {
   "cell_type": "markdown",
   "metadata": {},
   "source": [
    "Zadanie 9. Proszę napisać program wypisujący podzielniki liczby."
   ]
  },
  {
   "cell_type": "code",
   "execution_count": 9,
   "metadata": {},
   "outputs": [
    {
     "name": "stdout",
     "output_type": "stream",
     "text": [
      "1\n",
      "120\n",
      "2\n",
      "60\n",
      "3\n",
      "40\n",
      "4\n",
      "30\n",
      "5\n",
      "24\n",
      "6\n",
      "20\n",
      "8\n",
      "15\n",
      "10\n",
      "12\n"
     ]
    }
   ],
   "source": [
    "def get_devisors(n):\n",
    "    d = 1\n",
    "\n",
    "    while d * d < n:\n",
    "        if n % d == 0:\n",
    "            print(d)\n",
    "            print(n // d)\n",
    "\n",
    "        d += 1\n",
    "\n",
    "    if d * d == n:\n",
    "        print(d)\n",
    "\n",
    "\n",
    "get_devisors(120)\n"
   ]
  },
  {
   "cell_type": "markdown",
   "metadata": {},
   "source": [
    "Zadanie 10. Proszę napisać program wyszukujący liczby doskonałe mniejsze od miliona."
   ]
  },
  {
   "cell_type": "code",
   "execution_count": 10,
   "metadata": {},
   "outputs": [
    {
     "name": "stdout",
     "output_type": "stream",
     "text": [
      "1\n",
      "6\n",
      "28\n",
      "496\n",
      "8128\n"
     ]
    }
   ],
   "source": [
    "def is_perfect(n):\n",
    "    sum_of_divisors = 1\n",
    "    d = 2\n",
    "\n",
    "    while d * d < n:\n",
    "        if n % d == 0:\n",
    "            sum_of_divisors += d + n // d\n",
    "\n",
    "        d += 1\n",
    "\n",
    "    if d * d == n:\n",
    "        sum_of_divisors += d\n",
    "\n",
    "    if sum_of_divisors == n:\n",
    "        return True\n",
    "\n",
    "    return False\n",
    "\n",
    "\n",
    "for i in range(1, 1000000):\n",
    "    if is_perfect(i):\n",
    "        print(i)\n"
   ]
  },
  {
   "cell_type": "markdown",
   "metadata": {},
   "source": [
    "Zadanie 11. Proszę napisać program wyszukujący liczby zaprzyjaźnione mniejsze od miliona."
   ]
  },
  {
   "cell_type": "code",
   "execution_count": 11,
   "metadata": {},
   "outputs": [
    {
     "name": "stdout",
     "output_type": "stream",
     "text": [
      "220 284\n",
      "1184 1210\n",
      "2620 2924\n",
      "5020 5564\n",
      "6232 6368\n",
      "10744 10856\n",
      "12285 14595\n",
      "17296 18416\n",
      "63020 76084\n",
      "66928 66992\n",
      "67095 71145\n",
      "69615 87633\n",
      "79750 88730\n",
      "100485 124155\n",
      "122265 139815\n",
      "122368 123152\n",
      "141664 153176\n",
      "142310 168730\n",
      "171856 176336\n",
      "176272 180848\n",
      "185368 203432\n",
      "196724 202444\n",
      "280540 365084\n",
      "308620 389924\n",
      "319550 430402\n",
      "356408 399592\n",
      "437456 455344\n",
      "469028 486178\n",
      "503056 514736\n",
      "522405 525915\n",
      "600392 669688\n",
      "609928 686072\n",
      "624184 691256\n",
      "635624 712216\n",
      "643336 652664\n",
      "667964 783556\n",
      "726104 796696\n",
      "802725 863835\n",
      "879712 901424\n",
      "898216 980984\n"
     ]
    }
   ],
   "source": [
    "def sum_of_divisors(n):\n",
    "    _sum = 1\n",
    "    d = 2\n",
    "\n",
    "    while d * d < n:\n",
    "        if n % d == 0:\n",
    "            _sum += d + n // d\n",
    "\n",
    "        d += 1\n",
    "\n",
    "    if d * d == n:\n",
    "        _sum += d\n",
    "\n",
    "    return _sum\n",
    "\n",
    "\n",
    "for a in range(1, 1000000):\n",
    "    b = sum_of_divisors(a)\n",
    "\n",
    "    if a < b and b < 1000000 and a == sum_of_divisors(b):\n",
    "        print(a, b)\n"
   ]
  },
  {
   "cell_type": "markdown",
   "metadata": {},
   "source": [
    "Zadanie 12. Proszę napisać program wyznaczający największy wspólny dzielnik 3 zadanych liczb."
   ]
  },
  {
   "cell_type": "code",
   "execution_count": 12,
   "metadata": {},
   "outputs": [
    {
     "name": "stdout",
     "output_type": "stream",
     "text": [
      "12\n"
     ]
    }
   ],
   "source": [
    "def gcd(a, b):\n",
    "    while b > 0:\n",
    "        b, a = a % b, b\n",
    "\n",
    "    return a\n",
    "\n",
    "\n",
    "a = 12\n",
    "b = 36\n",
    "c = 120\n",
    "\n",
    "gcd_ab = gcd(a, b)\n",
    "gcd_abc = gcd(gcd_ab, c)\n",
    "\n",
    "print(gcd_abc)\n"
   ]
  },
  {
   "cell_type": "markdown",
   "metadata": {},
   "source": [
    "Zadanie 13. Proszę napisać program wyznaczający najmniejszą wspólną wielokrotność 3 zadanych liczb."
   ]
  },
  {
   "cell_type": "code",
   "execution_count": 13,
   "metadata": {},
   "outputs": [
    {
     "name": "stdout",
     "output_type": "stream",
     "text": [
      "36\n"
     ]
    }
   ],
   "source": [
    "def gcd(a, b):\n",
    "    while b > 0:\n",
    "        b, a = a % b, b\n",
    "\n",
    "    return a\n",
    "\n",
    "\n",
    "def lcm(a, b):\n",
    "    return a * b // gcd(a, b)\n",
    "\n",
    "\n",
    "a = 12\n",
    "b = 36\n",
    "c = 3\n",
    "\n",
    "lcm_ab = lcm(a, b)\n",
    "lcm_abc = lcm(lcm_ab, c)\n",
    "\n",
    "print(lcm_abc)\n"
   ]
  },
  {
   "cell_type": "markdown",
   "metadata": {},
   "source": [
    "Zadanie 14. Proszę napisać program obliczający wartości cos(x) z rozwinięcia w szereg Maclaurina."
   ]
  },
  {
   "cell_type": "code",
   "execution_count": 14,
   "metadata": {},
   "outputs": [
    {
     "name": "stdout",
     "output_type": "stream",
     "text": [
      "0.8660254037844386\n"
     ]
    }
   ],
   "source": [
    "def get_cos(x):\n",
    "    cosx = 0\n",
    "    fact = 1\n",
    "\n",
    "    for n in range(80):\n",
    "        cosx += ((-1) ** n) * (x ** (2*n)) / fact\n",
    "        fact *= (2*n + 1) * (2*n + 2)\n",
    "\n",
    "    return cosx\n",
    "\n",
    "\n",
    "my_pi = 3.141592653589793\n",
    "print(get_cos(my_pi / 6))\n"
   ]
  },
  {
   "cell_type": "markdown",
   "metadata": {},
   "source": [
    "Zadanie 15. Nieskończony iloczyn sqrt(0.5) * sqrt(0.5 + 0.5 * sqrt(0.5)) *  sqrt(0.5 + 0.5 * sqrt(0.5 + 0.5 * sqrt(0.5)))* ... ma wartość 2/π. Proszę napisać program korzystający z tej zależności i wyznaczający wartość π."
   ]
  },
  {
   "cell_type": "code",
   "execution_count": 15,
   "metadata": {},
   "outputs": [
    {
     "name": "stdout",
     "output_type": "stream",
     "text": [
      "3.141592653589794\n"
     ]
    }
   ],
   "source": [
    "def get_pi_value():\n",
    "    product = (0.5) ** 0.5\n",
    "    an = (0.5) ** 0.5\n",
    "\n",
    "    for _ in range(1000):\n",
    "        an = (0.5 + 0.5 * an) ** 0.5\n",
    "        product *= an\n",
    "\n",
    "    return 2 / product\n",
    "\n",
    "\n",
    "print(get_pi_value())\n"
   ]
  },
  {
   "cell_type": "markdown",
   "metadata": {},
   "source": [
    "Zadanie 16. Dany jest ciąg określony wzorem: An+1 = (An % 2) * (3*An + 1) + (1 − An%2) * An/2 Startując z dowolnej liczby naturalnej > 1 ciąg ten osiąga wartość 1. Proszę napisać program, który znajdzie wyraz początkowy z przedziału 2-10000 dla którego wartość 1 jest osiągalna po największej liczbie kroków."
   ]
  },
  {
   "cell_type": "code",
   "execution_count": 16,
   "metadata": {},
   "outputs": [
    {
     "name": "stdout",
     "output_type": "stream",
     "text": [
      "6171\n"
     ]
    }
   ],
   "source": [
    "def how_far_from_one(An):\n",
    "    steps = 0\n",
    "\n",
    "    while An != 1:\n",
    "        An = (An % 2) * (3*An + 1) + (1 - An % 2) * An / 2\n",
    "        steps += 1\n",
    "\n",
    "    return steps\n",
    "\n",
    "\n",
    "dist = num = 0\n",
    "\n",
    "for i in range(2, 10001):\n",
    "    dist_i = how_far_from_one(i)\n",
    "    if dist_i > dist:\n",
    "        dist = dist_i\n",
    "        num = i\n",
    "\n",
    "print(num)\n"
   ]
  },
  {
   "cell_type": "markdown",
   "metadata": {},
   "source": [
    "Zadanie 17. Proszę napisać program wyznaczający wartość do której zmierza iloraz dwóch kolejnych wyrazów ciągu Fibonacciego. Wyznaczyć ten iloraz dla różnych wartości początkowych wyrazów ciągu."
   ]
  },
  {
   "cell_type": "code",
   "execution_count": 17,
   "metadata": {},
   "outputs": [
    {
     "name": "stdout",
     "output_type": "stream",
     "text": [
      "2.0\n",
      "1.5\n",
      "1.6153846153846154\n",
      "1.618033988749895\n"
     ]
    }
   ],
   "source": [
    "a = b = 1\n",
    "\n",
    "for i in range(2, 100):\n",
    "    b, a = a + b, b\n",
    "\n",
    "    if i == 2 or i == 3 or i == 7:\n",
    "        print(b / a)\n",
    "\n",
    "\n",
    "print(b / a)\n"
   ]
  },
  {
   "cell_type": "markdown",
   "metadata": {},
   "source": [
    "Zadanie 18. Proszę zmodyfikować wzór Newtona aby program z zadania 5 obliczał pierwiastek stopnia 3."
   ]
  },
  {
   "cell_type": "code",
   "execution_count": 18,
   "metadata": {},
   "outputs": [
    {
     "name": "stdout",
     "output_type": "stream",
     "text": [
      "4.0\n",
      "1.0\n"
     ]
    }
   ],
   "source": [
    "def cubic_root(n):\n",
    "    x = 1.0\n",
    "\n",
    "    for _ in range(1000):\n",
    "        x = (2 * x + n / (x ** 2)) / 3\n",
    "\n",
    "    return x\n",
    "\n",
    "\n",
    "print(cubic_root(64))\n",
    "print(cubic_root(1))\n"
   ]
  },
  {
   "cell_type": "markdown",
   "metadata": {},
   "source": [
    "Zadanie 19. Proszę napisać program wyznaczający wartość liczby e korzystając z zależności: e = 1/0! +\n",
    "1/1!+1/2!+1/3!+..."
   ]
  },
  {
   "cell_type": "code",
   "execution_count": 19,
   "metadata": {},
   "outputs": [
    {
     "name": "stdout",
     "output_type": "stream",
     "text": [
      "2.7182818284590455\n"
     ]
    }
   ],
   "source": [
    "e = 0\n",
    "fact = 1\n",
    "\n",
    "for i in range(1, 1000):\n",
    "    e += 1 / fact\n",
    "    fact *= i\n",
    "\n",
    "print(e)\n"
   ]
  },
  {
   "cell_type": "markdown",
   "metadata": {},
   "source": [
    "Zadanie 20. Dane są ciągi: An+1 = sqrt(An * Bn) oraz Bn+1 = (An + Bn) / 2.0. Ciągi te są zbieżne do wspól- nej granicy nazywanej średnią arytmetyczno-geometryczną. Proszę napisać program wyznaczający średnią arytmetyczno-geometryczną dwóch liczb."
   ]
  },
  {
   "cell_type": "code",
   "execution_count": 20,
   "metadata": {},
   "outputs": [
    {
     "data": {
      "text/plain": [
       "2.474680435816873"
      ]
     },
     "execution_count": 20,
     "metadata": {},
     "output_type": "execute_result"
    }
   ],
   "source": [
    "def arythmetic_geometric_mean(a, b):\n",
    "    delta = 1e-6\n",
    "    while abs(a - b) > delta:\n",
    "        a, b = (a * b) ** 0.5, (a + b) / 2.0\n",
    "\n",
    "    return a\n",
    "\n",
    "\n",
    "arythmetic_geometric_mean(2, 3)\n"
   ]
  }
 ],
 "metadata": {
  "kernelspec": {
   "display_name": "Python 3.10.7 64-bit",
   "language": "python",
   "name": "python3"
  },
  "language_info": {
   "codemirror_mode": {
    "name": "ipython",
    "version": 3
   },
   "file_extension": ".py",
   "mimetype": "text/x-python",
   "name": "python",
   "nbconvert_exporter": "python",
   "pygments_lexer": "ipython3",
   "version": "3.11.0"
  },
  "orig_nbformat": 4,
  "vscode": {
   "interpreter": {
    "hash": "aee8b7b246df8f9039afb4144a1f6fd8d2ca17a180786b69acc140d282b71a49"
   }
  }
 },
 "nbformat": 4,
 "nbformat_minor": 2
}
