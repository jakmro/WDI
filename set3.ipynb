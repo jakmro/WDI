{
 "cells": [
  {
   "cell_type": "markdown",
   "metadata": {},
   "source": [
    "Zadanie 1. Napisać funkcję zamieniającą i wypisującą liczbę naturalną na system o podstawie 2-16."
   ]
  },
  {
   "cell_type": "code",
   "execution_count": 1,
   "metadata": {},
   "outputs": [
    {
     "name": "stdout",
     "output_type": "stream",
     "text": [
      "2. 10000\n",
      "3. 121\n",
      "4. 100\n",
      "5. 31\n",
      "6. 24\n",
      "7. 22\n",
      "8. 20\n",
      "9. 17\n",
      "10. 16\n",
      "11. 15\n",
      "12. 14\n",
      "13. 13\n",
      "14. 12\n",
      "15. 11\n",
      "16. 10\n"
     ]
    }
   ],
   "source": [
    "digits = '0123456789ABCDEF'\n",
    "\n",
    "\n",
    "def convert(n, b):\n",
    "    res = ''\n",
    "    while n > 0:\n",
    "        res = digits[n % b] + res\n",
    "        n //= b\n",
    "    return res\n",
    "\n",
    "\n",
    "def change(n):\n",
    "    for b in range(2, 16 + 1):\n",
    "        print(f'{b}. {convert(n, b)}')\n",
    "\n",
    "\n",
    "n = 16\n",
    "change(n)\n"
   ]
  },
  {
   "cell_type": "markdown",
   "metadata": {},
   "source": [
    "Zadanie 2. Napisać funkcje sprawdzającą czy dwie liczby naturalne są one zbudowane z takich samych\n",
    "cyfr, np. 123 i 321, 1255 i 5125, 11000 i 10001."
   ]
  },
  {
   "cell_type": "code",
   "execution_count": 92,
   "metadata": {},
   "outputs": [
    {
     "data": {
      "text/plain": [
       "True"
      ]
     },
     "execution_count": 92,
     "metadata": {},
     "output_type": "execute_result"
    }
   ],
   "source": [
    "def get_counter(a, b):\n",
    "    cnt = [0] * 10\n",
    "\n",
    "    while a > 0:\n",
    "        cnt[a % 10] += 1\n",
    "        a //= 10\n",
    "\n",
    "    while b > 0:\n",
    "        cnt[b % 10] -= 1\n",
    "        b //= 10\n",
    "\n",
    "    for i in cnt:\n",
    "        if i != 0:\n",
    "            return False\n",
    "\n",
    "    return True\n",
    "\n",
    "\n",
    "a = 10001\n",
    "b = 11000\n",
    "get_counter(a, b)\n"
   ]
  },
  {
   "cell_type": "markdown",
   "metadata": {},
   "source": [
    "Zadanie 3. Napisać program generujący i wypisujący liczby pierwsze mniejsze od N metodą Sita Erato- stenesa."
   ]
  },
  {
   "cell_type": "code",
   "execution_count": 342,
   "metadata": {},
   "outputs": [
    {
     "name": "stdout",
     "output_type": "stream",
     "text": [
      "2\n",
      "3\n",
      "5\n",
      "7\n",
      "11\n",
      "13\n",
      "17\n",
      "19\n",
      "23\n",
      "29\n",
      "31\n",
      "37\n",
      "41\n",
      "43\n",
      "47\n",
      "53\n",
      "59\n",
      "61\n",
      "67\n",
      "71\n",
      "73\n",
      "79\n",
      "83\n",
      "89\n",
      "97\n"
     ]
    }
   ],
   "source": [
    "n = 100\n",
    "primes = [True for _ in range(n)]\n",
    "primes[0] = primes[1] = False\n",
    "\n",
    "for i in range(2, int(n ** 0.5) + 1):\n",
    "    if primes[i]:\n",
    "        for j in range(i * i, n, i):\n",
    "            primes[j] = False\n",
    "\n",
    "for i in range(n):\n",
    "    if primes[i] == True:\n",
    "        print(i)\n"
   ]
  },
  {
   "cell_type": "markdown",
   "metadata": {},
   "source": [
    "\n",
    "Zadanie 4. Napisać program obliczający i wypisujący stałą e z rozwinięcia w szereg e = 1/0! + 1/1! + 1/2! + 1/3! + ... z dokładnością N cyfr dziesiętnych (N jest rzędu 1000)."
   ]
  },
  {
   "cell_type": "code",
   "execution_count": 359,
   "metadata": {},
   "outputs": [
    {
     "name": "stdout",
     "output_type": "stream",
     "text": [
      "2.7182818284590452353602874713526624977572470936999595749669676277240766303535475945713821785251664274274663919320030599218174135966290435729003342952605956307381323286279434907632338298807531952510190115738341879307021540891499348841675092447614606680822648001684774118537423454424371075390777449920695517027618386062613313845830007520449338265602976067371132007093287091274437470472306969772093101416928368190255151086574637721112523897844250569536967707854499699679468644549059879316368892300987931277361782154249992295763514822082698951936680331825288693984964651058209392398294887933203625094431173012381970684161403970198376793206832823764648042953118023287825098194558153017567173613320698112509961818815930416903515988885193458072738667385894228792284998920868058257492796104841984443634632449684875602336248270419786232090021609902353043699418491463140934317381436405462531520961836908887070167683964243781405927145635490613031072085103837505101157477041718986106873969655212671546889570350354"
     ]
    }
   ],
   "source": [
    "x = 1000\n",
    "fact = 1\n",
    "_sum = 0\n",
    "\n",
    "for i in range(x):\n",
    "    _sum += fact\n",
    "    fact *= (x - i)\n",
    "\n",
    "_sum += fact\n",
    "\n",
    "print(_sum // fact, '.', sep='', end='')\n",
    "\n",
    "N = 1000\n",
    "\n",
    "for i in range(N):\n",
    "    _sum %= fact\n",
    "    _sum *= 10\n",
    "    print(_sum // fact, end='')\n"
   ]
  },
  {
   "cell_type": "markdown",
   "metadata": {},
   "source": [
    "\n",
    "Zadanie 5. Napisać program, który wczytuje wprowadzany z klawiatury ciąg liczb naturalnych zakończo- nych zerem stanowiącym wyłącznie znacznik końca danych. Program powinien wypisać 10 co do wielkości wartość, jaka wystąpiła w ciągu. Można założyć, że w ciągu znajduje się wystarczająca liczba elementów."
   ]
  },
  {
   "cell_type": "code",
   "execution_count": 140,
   "metadata": {},
   "outputs": [
    {
     "name": "stdout",
     "output_type": "stream",
     "text": [
      "13431252\n",
      "12414312\n",
      "1341341\n",
      "134\n",
      "124\n",
      "124\n",
      "124\n",
      "6\n",
      "6\n",
      "6\n"
     ]
    }
   ],
   "source": [
    "arr = [0 for _ in range(10)]\n",
    "\n",
    "while True:\n",
    "    x = int(input())\n",
    "    if x == 0:\n",
    "        break\n",
    "\n",
    "    for i in range(10):\n",
    "        if arr[i] < x:\n",
    "            arr[i], x = x, arr[i]\n",
    "\n",
    "\n",
    "for i in arr:\n",
    "    print(i)\n"
   ]
  },
  {
   "cell_type": "markdown",
   "metadata": {},
   "source": [
    "\n",
    "Zadanie 6. Napisać program wypełniający N-elementową tablicę t liczbami naturalnymi 1-1000 i spraw- dzający czy każdy element tablicy zawiera co najmniej jedną cyfrę nieparzystą."
   ]
  },
  {
   "cell_type": "code",
   "execution_count": null,
   "metadata": {},
   "outputs": [
    {
     "data": {
      "text/plain": [
       "True"
      ]
     },
     "execution_count": 132,
     "metadata": {},
     "output_type": "execute_result"
    }
   ],
   "source": [
    "from random import randint\n",
    "\n",
    "\n",
    "def has_odd_digit(n):\n",
    "    while n > 0:\n",
    "        if n % 2 == 1:\n",
    "            return True\n",
    "\n",
    "        n //= 10\n",
    "\n",
    "    return False\n",
    "\n",
    "\n",
    "def f():\n",
    "    n = 2\n",
    "    t = 2\n",
    "\n",
    "    arr = [0 for _ in range(n)]\n",
    "\n",
    "    for i in range(t):\n",
    "        arr[i] = randint(1, 1000)\n",
    "\n",
    "    for i in arr:\n",
    "        if has_odd_digit(i) == False:\n",
    "            return False\n",
    "\n",
    "    return True\n",
    "\n",
    "\n",
    "f()\n"
   ]
  },
  {
   "cell_type": "markdown",
   "metadata": {},
   "source": [
    "\n",
    "Zadanie 7. Napisać program wypełniający N-elementową tablicę t liczbami pseudolosowymi z zakresu 1-1000 i sprawdzający czy istnieje element tablicy zawierający wyłącznie cyfry nieparzyste."
   ]
  },
  {
   "cell_type": "code",
   "execution_count": null,
   "metadata": {},
   "outputs": [
    {
     "data": {
      "text/plain": [
       "False"
      ]
     },
     "execution_count": 144,
     "metadata": {},
     "output_type": "execute_result"
    }
   ],
   "source": [
    "from random import randint\n",
    "\n",
    "\n",
    "def has_only_odd_digits(n):\n",
    "    while n > 0:\n",
    "        if n % 2 == 0:\n",
    "            return False\n",
    "        n //= 10\n",
    "\n",
    "    return True\n",
    "\n",
    "\n",
    "def f():\n",
    "    n = 3\n",
    "    arr = [randint(1, 1000) for _ in range(n)]\n",
    "\n",
    "    for i in arr:\n",
    "        if has_only_odd_digits(i):\n",
    "            return True\n",
    "\n",
    "    return False\n",
    "\n",
    "\n",
    "f()\n"
   ]
  },
  {
   "cell_type": "markdown",
   "metadata": {},
   "source": [
    "\n",
    "Zadanie 8. Dana jest N-elementowa tablica t zawierająca liczby naturalne. W tablicy możemy przeskoczyć z pola o indeksie k o n pól w prawo jeżeli wartość n jest czynnikiem pierwszym liczby t[k]. Napisać funkcję sprawdzającą czy jest możliwe przejście z pierwszego pola tablicy na ostatnie pole."
   ]
  },
  {
   "cell_type": "code",
   "execution_count": 5,
   "metadata": {},
   "outputs": [
    {
     "name": "stdout",
     "output_type": "stream",
     "text": [
      "True\n"
     ]
    }
   ],
   "source": [
    "primes_bolean = [True for _ in range(1000000 + 1)]\n",
    "primes_bolean[0] = primes_bolean[1] = False\n",
    "\n",
    "for i in range(2, 1000 + 1):\n",
    "    if primes_bolean[i]:\n",
    "        for j in range(i * i, 1000000 + 1, i):\n",
    "            primes_bolean[j] = False\n",
    "\n",
    "primes = []\n",
    "\n",
    "for i in range(len(primes_bolean)):\n",
    "    if primes_bolean[i]:\n",
    "        primes.append(i)\n",
    "\n",
    "\n",
    "def is_reaching_end_possible(arr):\n",
    "    possible_to_reach = [False for _ in range(len(arr))]\n",
    "    possible_to_reach[0] = True\n",
    "\n",
    "    for i in range(0, len(arr)):\n",
    "        if possible_to_reach[i]:\n",
    "            for prime in primes:\n",
    "                if i + prime < len(arr) and arr[i] % prime == 0:\n",
    "                    possible_to_reach[i + prime] = True\n",
    "\n",
    "    return possible_to_reach[-1]\n",
    "\n",
    "\n",
    "print(is_reaching_end_possible([4, 1, 2, 2, 5]))\n"
   ]
  },
  {
   "cell_type": "markdown",
   "metadata": {},
   "source": [
    "Zadanie 9. Napisać funkcję, która dla N-elementowej tablicy t wypełnionej liczbami naturalnym wyznacza długość najdłuższego, spójnego podciągu rosnącego."
   ]
  },
  {
   "cell_type": "code",
   "execution_count": null,
   "metadata": {},
   "outputs": [
    {
     "name": "stdout",
     "output_type": "stream",
     "text": [
      "5\n"
     ]
    }
   ],
   "source": [
    "def max_incresing(arr):\n",
    "    if len(arr) < 2:\n",
    "        return len(arr)\n",
    "\n",
    "    global_res = res = 1\n",
    "\n",
    "    for i in range(1, len(arr)):\n",
    "        if arr[i-1] < arr[i]:\n",
    "            res += 1\n",
    "            global_res = max(res, global_res)\n",
    "        else:\n",
    "            res = 1\n",
    "\n",
    "    return max(global_res, res)\n",
    "\n",
    "\n",
    "print(max_incresing([1, 2, 3, 7, 9]))\n"
   ]
  },
  {
   "cell_type": "markdown",
   "metadata": {},
   "source": [
    "\n",
    "Zadanie 10. Napisać funkcję, która dla N-elementowej tablicy t wypełnionej liczbami naturalnym wyzna- cza długość najdłuższego, spójnego podciągu arytmetycznego."
   ]
  },
  {
   "cell_type": "code",
   "execution_count": null,
   "metadata": {},
   "outputs": [
    {
     "name": "stdout",
     "output_type": "stream",
     "text": [
      "4\n"
     ]
    }
   ],
   "source": [
    "def max_arythemtic(arr):\n",
    "    if len(arr) < 2:\n",
    "        return len(arr)\n",
    "\n",
    "    global_res = res = 2\n",
    "\n",
    "    for i in range(2, len(arr)):\n",
    "        if arr[i-1] - arr[i-2] == arr[i] - arr[i-1]:\n",
    "            res += 1\n",
    "            global_res = max(res, global_res)\n",
    "        else:\n",
    "            res = 2\n",
    "\n",
    "    return max(global_res, res)\n",
    "\n",
    "\n",
    "print(max_arythemtic([11, 10, 9, 8, 9]))\n"
   ]
  },
  {
   "cell_type": "markdown",
   "metadata": {},
   "source": [
    "Zadanie 11. Napisać funkcję, która dla N-elementowej tablicy t wypełnionej liczbami naturalnym wyzna- cza długość najdłuższego, spójnego podciągu geometrycznego."
   ]
  },
  {
   "cell_type": "code",
   "execution_count": null,
   "metadata": {},
   "outputs": [
    {
     "name": "stdout",
     "output_type": "stream",
     "text": [
      "3\n"
     ]
    }
   ],
   "source": [
    "def max_geometric(arr):\n",
    "    if len(arr) < 2:\n",
    "        return len(arr)\n",
    "\n",
    "    global_res = res = 2\n",
    "\n",
    "    for i in range(2, len(arr)):\n",
    "        if arr[i-1] / arr[i-2] == arr[i] / arr[i-1]:\n",
    "            res += 1\n",
    "            global_res = max(res, global_res)\n",
    "        else:\n",
    "            res = 2\n",
    "\n",
    "    return max(global_res, res)\n",
    "\n",
    "\n",
    "print(max_geometric([1, 2, 3, 9, 27]))\n"
   ]
  },
  {
   "cell_type": "markdown",
   "metadata": {},
   "source": [
    "\n",
    "Zadanie 12. Proszę napisać program, który wypełnia N-elementową tablicę t pseudolosowymi liczbami nieparzystymi z zakresu [1..99], a następnie wyznacza i wypisuje różnicę pomiędzy długością najdłuższego znajdującego się w niej ciągu arytmetycznego o dodatniej różnicy, a długością najdłuższego ciągu arytme- tycznego o ujemnej różnicy, przy założeniu, że kolejnymi wyrazami ciągu są elementy tablicy o kolejnych indeksach.\n"
   ]
  },
  {
   "cell_type": "code",
   "execution_count": 135,
   "metadata": {},
   "outputs": [
    {
     "name": "stdout",
     "output_type": "stream",
     "text": [
      "1\n"
     ]
    }
   ],
   "source": [
    "import random\n",
    "\n",
    "n = 100\n",
    "\n",
    "arr = [random.randint(1, 99) for _ in range(n)]\n",
    "\n",
    "g_plus = g_minus = 2\n",
    "plus = minus = 2\n",
    "\n",
    "\n",
    "for i in range(2, n):\n",
    "    if arr[i-1] < arr[i] and arr[i-1] - arr[i-2] == arr[i] - arr[i-1]:\n",
    "        plus += 1\n",
    "        g_plus = max(g_plus, plus)\n",
    "    else:\n",
    "        plus = 2\n",
    "\n",
    "for i in range(2, n):\n",
    "    if arr[i-1] > arr[i] and arr[i-1] - arr[i-2] == arr[i] - arr[i-1]:\n",
    "        minus += 1\n",
    "        g_minus = max(g_minus, minus)\n",
    "    else:\n",
    "        minus = 2\n",
    "\n",
    "print(abs(g_plus - g_minus))\n"
   ]
  },
  {
   "cell_type": "markdown",
   "metadata": {},
   "source": [
    "Zadanie 13. Proszę napisać program, który wypełnia N-elementową tablicę t trzycyfrowymi liczbami pseudolosowymi, a następnie wyznacza i wypisuje długość najdłuższego podciągu spójnego znajdujące- go się w tablicy dla którego w tablicy występuje również rewers tego ciągu. Na przykład dla tablicy: t= [2,9,3,1,7,11,9,6,7,7,1,3,9,12,15] odpowiedzią jest liczba 4.\n"
   ]
  },
  {
   "cell_type": "code",
   "execution_count": 190,
   "metadata": {},
   "outputs": [
    {
     "name": "stdout",
     "output_type": "stream",
     "text": [
      "1\n"
     ]
    }
   ],
   "source": [
    "import random\n",
    "\n",
    "\n",
    "def _contains(a, b):\n",
    "    for i in range(len(a) - len(b) + 1):\n",
    "        for j in range(len(b)):\n",
    "            if b[j] != a[i + j]:\n",
    "                break\n",
    "\n",
    "            if j == len(b) - 1:\n",
    "                return True\n",
    "\n",
    "    return False\n",
    "\n",
    "\n",
    "n = 10\n",
    "arr = [random.randint(100, 999) for _ in range(n)]\n",
    "\n",
    "res = 0\n",
    "\n",
    "for i in range(n):\n",
    "    for j in range(i + 1, n + 1):\n",
    "        tmp = arr[i:j]\n",
    "        tmp.reverse()\n",
    "        if _contains(arr, tmp):\n",
    "            res = max(res, j - i)\n",
    "\n",
    "\n",
    "print(res)\n"
   ]
  },
  {
   "cell_type": "markdown",
   "metadata": {},
   "source": [
    "\n",
    "Zadanie 14. Napisać program wyznaczający na drodze eksperymentu prawdopodobieństwo tego, że w grupie N przypadkowo spotkanych osób, co najmniej dwie urodziły się tego samego dnia roku. Wyznaczyć wartości prawdopodobieństwa dla N z zakresu 20-40."
   ]
  },
  {
   "cell_type": "code",
   "execution_count": 228,
   "metadata": {},
   "outputs": [
    {
     "data": {
      "text/plain": [
       "0.502"
      ]
     },
     "execution_count": 228,
     "metadata": {},
     "output_type": "execute_result"
    }
   ],
   "source": [
    "import random\n",
    "\n",
    "\n",
    "def experiment(people=23, iterations=10000):\n",
    "    positive_iterations = 0\n",
    "\n",
    "    for _ in range(iterations):\n",
    "        arr = [0] * 365\n",
    "\n",
    "        for _ in range(people):\n",
    "            arr[random.randint(0, 364)] += 1\n",
    "\n",
    "        for cnt in arr:\n",
    "            if cnt > 1:\n",
    "                positive_iterations += 1\n",
    "                break\n",
    "\n",
    "    return positive_iterations / iterations\n",
    "\n",
    "\n",
    "experiment()\n"
   ]
  },
  {
   "cell_type": "markdown",
   "metadata": {},
   "source": [
    "Zadanie 15. Dana jest duża tablica t. Proszę napisać funkcję, która zwraca informację czy w tablicy zachodzi następujący warunek: „wszystkie elementy, których indeks jest elementem ciągu Fibonacciego są liczbami złożonymi, a wśród pozostałych przynajmniej jedna jest liczbą pierwszą”\n"
   ]
  },
  {
   "cell_type": "code",
   "execution_count": 338,
   "metadata": {},
   "outputs": [
    {
     "data": {
      "text/plain": [
       "True"
      ]
     },
     "execution_count": 338,
     "metadata": {},
     "output_type": "execute_result"
    }
   ],
   "source": [
    "import random\n",
    "\n",
    "arr = [random.randint(1, 1000) for _ in range(100)]\n",
    "\n",
    "\n",
    "def is_prime(n):\n",
    "    if n == 2 or n == 3:\n",
    "        return True\n",
    "\n",
    "    if n < 2 or n % 2 == 0 or n % 3 == 0:\n",
    "        return False\n",
    "\n",
    "    d = 5\n",
    "\n",
    "    while d * d <= n:\n",
    "        if n % d == 0:\n",
    "            return False\n",
    "        d += 2\n",
    "\n",
    "        if n % d == 0:\n",
    "            return False\n",
    "        d += 4\n",
    "\n",
    "    return True\n",
    "\n",
    "\n",
    "def check_arr(arr):\n",
    "    a = b = 1\n",
    "\n",
    "    while b < len(arr):\n",
    "        if arr[b] == 0 or arr[b] == 1 or is_prime(arr[b]):\n",
    "            return False\n",
    "        a, b = b, a + b\n",
    "\n",
    "    for i in arr:\n",
    "        if is_prime(i):\n",
    "            return True\n",
    "\n",
    "    return False\n",
    "\n",
    "\n",
    "check_arr(arr)\n"
   ]
  },
  {
   "cell_type": "markdown",
   "metadata": {},
   "source": [
    "Zadanie 16. Mamy zdefiniowaną n-elementową tablicę liczb całkowitych. Proszę napisać funkcję zwraca- jącą wartość typu bool oznaczającą, czy w tablicy istnieje dokładnie jeden element najmniejszy i dokładnie jeden element największy (liczba elementów najmniejszych oznacza liczbę takich elementów o tej samej wartości).\n"
   ]
  },
  {
   "cell_type": "code",
   "execution_count": 369,
   "metadata": {},
   "outputs": [
    {
     "data": {
      "text/plain": [
       "True"
      ]
     },
     "execution_count": 369,
     "metadata": {},
     "output_type": "execute_result"
    }
   ],
   "source": [
    "arr = [2, 1]\n",
    "\n",
    "\n",
    "def count_max_mins(arr):\n",
    "    g_min = g_max = arr[0]\n",
    "    cnt_max = cnt_min = 1\n",
    "\n",
    "    for i in arr[1:]:\n",
    "        if i == g_min:\n",
    "            cnt_min += 1\n",
    "        if i == g_max:\n",
    "            cnt_max += 1\n",
    "\n",
    "        if i < g_min:\n",
    "            g_min = i\n",
    "            cnt_min = 1\n",
    "\n",
    "        if i > g_max:\n",
    "            g_max = i\n",
    "            cnt_max = 1\n",
    "\n",
    "    return cnt_min == 1 and cnt_max == 1\n",
    "\n",
    "\n",
    "count_max_mins(arr)\n"
   ]
  },
  {
   "cell_type": "markdown",
   "metadata": {},
   "source": [
    "\n",
    "Zadanie 17. Dane są dwie N-elementowe tablice t1 i t2 zawierające liczby naturalne. Z wartości w obu tablicach możemy tworzyć sumy. „Poprawna” suma to taka, która zawiera co najmniej jeden element (z tablicy t1 lub t2) o każdym indeksie. Na przykład dla tablic: t1 = [1,3,2,4] i t2 = [9,7,4,8] poprawnymi sumami są na przykład 1+3+2+4, 9+7+4+8, 1+7+2+8, 1+9+7+2+4+8. Proszę napisać funkcje generującą i wypisująca wszystkie poprawne sumy, które są liczbami pierwszymi. Do funkcji należy przekazać dwie tablice, funkcja powinna zwrócić liczbę znalezionych i wypisanych sum.\n"
   ]
  },
  {
   "cell_type": "code",
   "execution_count": 379,
   "metadata": {},
   "outputs": [
    {
     "data": {
      "text/plain": [
       "7"
      ]
     },
     "execution_count": 379,
     "metadata": {},
     "output_type": "execute_result"
    }
   ],
   "source": [
    "def is_prime(n):\n",
    "    if n < 2:\n",
    "        return False\n",
    "\n",
    "    if n == 2 or n == 3:\n",
    "        return True\n",
    "\n",
    "    if n % 2 == 0 or n % 3 == 0:\n",
    "        return False\n",
    "\n",
    "    d = 5\n",
    "\n",
    "    while d * d <= n:\n",
    "        if n % d == 0:\n",
    "            return False\n",
    "\n",
    "        n += 2\n",
    "\n",
    "        if n % d == 0:\n",
    "            return False\n",
    "\n",
    "        n += 4\n",
    "\n",
    "    return True\n",
    "\n",
    "\n",
    "def construct(a, b):\n",
    "    cnt = 0\n",
    "    n = len(a)\n",
    "    ternary = 3 ** n\n",
    "\n",
    "    for i in range(ternary):\n",
    "        _sum = 0\n",
    "        for j in range(n):\n",
    "            if i % 3 == 0:\n",
    "                _sum += a[j]\n",
    "            elif i % 3 == 1:\n",
    "                _sum += b[j]\n",
    "            else:\n",
    "                _sum += a[j] + b[j]\n",
    "\n",
    "            i //= 3\n",
    "\n",
    "        if is_prime(_sum):\n",
    "            cnt += 1\n",
    "\n",
    "    return cnt\n",
    "\n",
    "\n",
    "a = [1, 3, 2, 4]\n",
    "b = [9, 7, 4, 8]\n",
    "\n",
    "construct(a, b)\n"
   ]
  },
  {
   "cell_type": "markdown",
   "metadata": {},
   "source": [
    "\n",
    "Zadanie 18. Dana jest N-elementowa tablica t jest wypełniona liczbami naturalnymi. Proszę napisać funkcję, która zwraca długość najdłuższego spójnego podciągu będącego palindromem złożonym wyłącznie z liczb nieparzystych. Do funkcji należy przekazać tablicę, funkcja powinna zwrócić długość znalezionego podciągu lub wartość 0 jeżeli taki podciąg nie istnieje."
   ]
  },
  {
   "cell_type": "code",
   "execution_count": 475,
   "metadata": {},
   "outputs": [
    {
     "data": {
      "text/plain": [
       "3"
      ]
     },
     "execution_count": 475,
     "metadata": {},
     "output_type": "execute_result"
    }
   ],
   "source": [
    "arr = [3, 1, 2, 1, 3, 1]\n",
    "\n",
    "\n",
    "def is_palindrome(arr):\n",
    "    for i in range(len(arr) // 2):\n",
    "        if arr[i] != arr[-i - 1]:\n",
    "            return False\n",
    "\n",
    "    return True\n",
    "\n",
    "\n",
    "def only_odds(arr):\n",
    "    for i in arr:\n",
    "        if i % 2 == 0:\n",
    "            return False\n",
    "\n",
    "    return True\n",
    "\n",
    "\n",
    "def odd_palindrome(arr):\n",
    "    max_len = 0\n",
    "    for i in range(len(arr)):\n",
    "        for j in range(i, len(arr)):\n",
    "            if is_palindrome(arr[i:j + 1]) and only_odds(arr[i:j + 1]):\n",
    "                max_len = max(max_len, j - i + 1)\n",
    "\n",
    "    return max_len\n",
    "\n",
    "\n",
    "odd_palindrome(arr)\n"
   ]
  },
  {
   "cell_type": "markdown",
   "metadata": {},
   "source": [
    "Zadanie 19. Dana jest N-elementowa tablica t wypełniona liczbami naturalnymi. Proszę napisać funkcję, która zwraca długość najdłuższego, spójnego podciągu rosnącego dla którego suma jego elementów jest równa sumie indeksów tych elementów. Do funkcji należy przekazać tablicę, funkcja powinna zwrócić długość znalezionego podciągu lub wartość 0 jeżeli taki podciąg nie istnieje."
   ]
  },
  {
   "cell_type": "code",
   "execution_count": 482,
   "metadata": {},
   "outputs": [
    {
     "data": {
      "text/plain": [
       "4"
      ]
     },
     "execution_count": 482,
     "metadata": {},
     "output_type": "execute_result"
    }
   ],
   "source": [
    "arr = [3, 1, 2, 1, 3, 1]\n",
    "\n",
    "\n",
    "def is_correct(arr):\n",
    "    for i in range(1, len(arr)):\n",
    "        if arr[i-1] >= arr[i]:\n",
    "            return False\n",
    "\n",
    "    return True\n",
    "\n",
    "\n",
    "def ind_sum(arr, a, b):\n",
    "    _sum = 0\n",
    "\n",
    "    for i in arr:\n",
    "        _sum += i\n",
    "\n",
    "    return _sum == (a + b) * (b - a + 1) // 2\n",
    "\n",
    "\n",
    "def increasing_subarr(arr):\n",
    "    max_len = 0\n",
    "    for i in range(len(arr)):\n",
    "        for j in range(i, len(arr)):\n",
    "            if is_correct(arr[i:j + 1]) and ind_sum(arr[i:j + 1], i, j):\n",
    "                max_len = max(max_len, j - i + 1)\n",
    "\n",
    "    return max_len\n",
    "\n",
    "\n",
    "increasing_subarr([4, 1, 1, 2, 3, 8])\n"
   ]
  },
  {
   "cell_type": "markdown",
   "metadata": {},
   "source": [
    "Zadanie 20. Dana jest N-elementowa tablica t zawierająca liczby naturalne mniejsze od 1000. Proszę na-\n",
    "pisać funkcję, która zwraca długość najdłuższego, spójnego fragmentu tablicy, dla którego w iloczynie jego ele- mentów każdy czynniki pierwszy występuje co najwyżej raz. Na przykład dla tablicy t=[2,23,33,35,7,4,6,7,5,11,13,22] wynikiem jest wartość 5."
   ]
  },
  {
   "cell_type": "code",
   "execution_count": 486,
   "metadata": {},
   "outputs": [
    {
     "data": {
      "text/plain": [
       "4"
      ]
     },
     "execution_count": 486,
     "metadata": {},
     "output_type": "execute_result"
    }
   ],
   "source": [
    "arr = [2, 23, 33, 35, 7, 4, 6, 7, 5, 11, 13, 22]\n",
    "\n",
    "\n",
    "def correct_subarr(arr):\n",
    "    product = 1\n",
    "\n",
    "    for i in arr:\n",
    "        product *= i\n",
    "\n",
    "    cnt = [0 for _ in range(1000)]\n",
    "\n",
    "    d = 2\n",
    "\n",
    "    while product > 1:\n",
    "        while product % d == 0:\n",
    "            cnt[d] += 1\n",
    "            product //= d\n",
    "\n",
    "        d += 1\n",
    "\n",
    "    for i in cnt:\n",
    "        if i > 1:\n",
    "            return False\n",
    "\n",
    "    return True\n",
    "\n",
    "\n",
    "def find_subarr(arr):\n",
    "    max_len = 0\n",
    "    for i in range(len(arr)):\n",
    "        for j in range(i, len(arr)):\n",
    "            if correct_subarr(arr[i:j+1]):\n",
    "                max_len = max(max_len, j - i + 1)\n",
    "\n",
    "    return max_len\n",
    "\n",
    "\n",
    "find_subarr(arr)\n"
   ]
  },
  {
   "cell_type": "markdown",
   "metadata": {},
   "source": [
    "\n",
    "Zadanie 21. Dana jest tablica T[N] wypełniona niepowtarzającymi się liczbami naturalnymi. Proszę zaimplementować funkcję trojki(T) która zlicza wszystkie trójki liczb, które spełniają następujące warunki: (1) największym wspólnym dzielnikiem trzech liczb jest liczba 1,\n",
    "(2) pomiędzy dwoma kolejnymi elementami trójki może być co najwyżej jedna przerwa.\n",
    "Funkcja powinna zwrócić liczbę znalezionych trójek."
   ]
  },
  {
   "cell_type": "code",
   "execution_count": 503,
   "metadata": {},
   "outputs": [
    {
     "name": "stdout",
     "output_type": "stream",
     "text": [
      "4\n"
     ]
    }
   ],
   "source": [
    "arr = [1, 4, 8, 16, 32]\n",
    "\n",
    "\n",
    "def gcd(a, b):\n",
    "    while b:\n",
    "        a, b = b, a % b\n",
    "\n",
    "    return a\n",
    "\n",
    "\n",
    "def check_three(a, b, c):\n",
    "    return gcd(gcd(a, b), c) == 1\n",
    "\n",
    "\n",
    "cnt = 0\n",
    "\n",
    "\n",
    "for i in range(len(arr) - 2):\n",
    "    for j in range(i + 1, i + 3):\n",
    "        for k in range(j + 1, j + 3):\n",
    "            if k < len(arr) and check_three(arr[i], arr[j], arr[k]):\n",
    "                cnt += 1\n",
    "\n",
    "print(cnt)\n"
   ]
  }
 ],
 "metadata": {
  "kernelspec": {
   "display_name": "Python 3.10.7 64-bit",
   "language": "python",
   "name": "python3"
  },
  "language_info": {
   "codemirror_mode": {
    "name": "ipython",
    "version": 3
   },
   "file_extension": ".py",
   "mimetype": "text/x-python",
   "name": "python",
   "nbconvert_exporter": "python",
   "pygments_lexer": "ipython3",
   "version": "3.11.0"
  },
  "orig_nbformat": 4,
  "vscode": {
   "interpreter": {
    "hash": "aee8b7b246df8f9039afb4144a1f6fd8d2ca17a180786b69acc140d282b71a49"
   }
  }
 },
 "nbformat": 4,
 "nbformat_minor": 2
}
