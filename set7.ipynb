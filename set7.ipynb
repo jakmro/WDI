{
 "cells": [
  {
   "cell_type": "code",
   "execution_count": 34,
   "metadata": {},
   "outputs": [],
   "source": [
    "class Node():\n",
    "    def __init__(self, val=None):\n",
    "        self.val = val\n",
    "        self.next = None\n",
    "\n",
    "\n",
    "def make_list(arr):\n",
    "    g = Node()\n",
    "    cur = g\n",
    "    for i in arr:\n",
    "        p = Node(i)\n",
    "        cur.next = p\n",
    "        cur = cur.next\n",
    "    return g\n",
    "\n",
    "\n",
    "def print_list(p):\n",
    "    while p != None:\n",
    "        print(p.val, end=' ')\n",
    "        p = p.next\n",
    "\n",
    "    print()\n"
   ]
  },
  {
   "attachments": {},
   "cell_type": "markdown",
   "metadata": {},
   "source": [
    "1. Zaimplementuj zbiór mnogościowy liczb naturalnych struktury listy odsyłaczowej.\n",
    "- czy element należy do zbioru\n",
    "- wstawienie elementu do zbioru\n",
    "- usunięcie elementu ze zbioru"
   ]
  },
  {
   "cell_type": "code",
   "execution_count": 73,
   "metadata": {},
   "outputs": [
    {
     "name": "stdout",
     "output_type": "stream",
     "text": [
      "None 1 2 3 4 5 \n",
      "None 0 1 2 4 5 \n"
     ]
    }
   ],
   "source": [
    "def belongs(el, p):\n",
    "    while p != None:\n",
    "        if p.val == el:\n",
    "            return True\n",
    "\n",
    "        p = p.next\n",
    "\n",
    "    return False\n",
    "\n",
    "\n",
    "def delete(el, p):\n",
    "    if not belongs(el, p):\n",
    "        return\n",
    "\n",
    "    while p.next:\n",
    "        if p.next.val == el:\n",
    "            p.next = p.next.next\n",
    "            return\n",
    "\n",
    "        p = p.next\n",
    "\n",
    "\n",
    "def insert(el, p):\n",
    "    if belongs(el, p):\n",
    "        return\n",
    "\n",
    "    while p.next and el > p.next.val:\n",
    "        p = p.next\n",
    "\n",
    "    new_el = Node(el)\n",
    "    new_el.next = p.next\n",
    "\n",
    "    p.next = new_el\n",
    "\n",
    "\n",
    "ll = make_list([1, 2, 3, 4, 5])\n",
    "delete(3, ll)\n",
    "insert(0, ll)\n",
    "\n",
    "print_list(ll)\n"
   ]
  },
  {
   "attachments": {},
   "cell_type": "markdown",
   "metadata": {},
   "source": [
    "30. Dane są dwie niepuste listy, z których każda zawiera niepowtarzające się elementy. Elementy w pierwszej liście są uporządkowane rosnąco, w drugiej elementy występują w przypadkowej kolejności. Proszę napisać funkcję, która z dwóch takich list stworzy jedną, w której uporządkowane elementy będą stanowić sumę mnogościową elementów z list wejściowych.\n",
    "Do funkcji należy przekazać wskazania na obie listy, funkcja powinna zwrócić wskazanie na listę wynikową. Na przykład dla list:"
   ]
  },
  {
   "cell_type": "code",
   "execution_count": 65,
   "metadata": {},
   "outputs": [
    {
     "name": "stdout",
     "output_type": "stream",
     "text": [
      "None 1 2 3 4 5 10 \n"
     ]
    }
   ],
   "source": [
    "p1 = make_list([1, 2, 3, 4])\n",
    "p2 = make_list([4, 5, 2, 10, 3])\n",
    "\n",
    "\n",
    "def sum_mno(p1, p2):\n",
    "    head = p1\n",
    "\n",
    "    p2 = p2.next\n",
    "\n",
    "    while p2:\n",
    "        insert(p2.val, head)\n",
    "        p2 = p2.next\n",
    "\n",
    "    return head\n",
    "\n",
    "\n",
    "res = sum_mno(p1, p2)\n",
    "print_list(res)\n"
   ]
  }
 ],
 "metadata": {
  "kernelspec": {
   "display_name": "Python 3",
   "language": "python",
   "name": "python3"
  },
  "language_info": {
   "codemirror_mode": {
    "name": "ipython",
    "version": 3
   },
   "file_extension": ".py",
   "mimetype": "text/x-python",
   "name": "python",
   "nbconvert_exporter": "python",
   "pygments_lexer": "ipython3",
   "version": "3.11.0"
  },
  "orig_nbformat": 4,
  "vscode": {
   "interpreter": {
    "hash": "aee8b7b246df8f9039afb4144a1f6fd8d2ca17a180786b69acc140d282b71a49"
   }
  }
 },
 "nbformat": 4,
 "nbformat_minor": 2
}
