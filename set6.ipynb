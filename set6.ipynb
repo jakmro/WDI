{
 "cells": [
  {
   "cell_type": "markdown",
   "metadata": {},
   "source": [
    "\n",
    "Zadanie 1. Proszę napisać funkcję, która jako argument przyjmuje liczbę całkowitą i wypisuje wszystkie co najmniej dwucyfrowe liczby pierwsze, powstałe poprzez wykreślenie z liczby pierwotnej co najmniej jednej cyfry."
   ]
  },
  {
   "cell_type": "code",
   "execution_count": 14,
   "metadata": {},
   "outputs": [
    {
     "name": "stdout",
     "output_type": "stream",
     "text": [
      "137\n",
      "37\n",
      "17\n",
      "13\n",
      "23\n"
     ]
    }
   ],
   "source": [
    "import math\n",
    "\n",
    "\n",
    "def is_prime(n):\n",
    "    if n < 2:\n",
    "        return False\n",
    "\n",
    "    if n == 2 or n == 3:\n",
    "        return True\n",
    "\n",
    "    if n % 2 == 0 or n % 3 == 0:\n",
    "        return False\n",
    "\n",
    "    d = 5\n",
    "\n",
    "    while d * d <= n:\n",
    "        if n % d == 0:\n",
    "            return False\n",
    "\n",
    "        d += 2\n",
    "\n",
    "        if n % d == 0:\n",
    "            return False\n",
    "\n",
    "        d += 4\n",
    "\n",
    "    return True\n",
    "\n",
    "\n",
    "def construct(N, n, p=0):\n",
    "    if n == 0:\n",
    "        if p != N and p > 9 and is_prime(p):\n",
    "            print(p)\n",
    "        return\n",
    "\n",
    "    pow = (int(math.log(p, 10)) + 1) if p > 0 else 0\n",
    "\n",
    "    construct(N, n // 10, p + (n % 10) * (10 ** pow))\n",
    "    construct(N, n // 10, p)\n",
    "\n",
    "\n",
    "construct(2137, 2137)\n"
   ]
  },
  {
   "cell_type": "markdown",
   "metadata": {},
   "source": [
    "\n",
    "Zadanie 3. Szachownica jest reprezentowana przez tablicę T[8][8] wypełnioną liczbami naturalnymi zawie- rającymi koszt przebywania na danym polu szachownicy. Król szachowy znajduje się w wierszu 0 i kolumnie k. Król musi w dokładnie 7 ruchach dotrzeć do wiersza 7. Proszę napisać funkcję, która wyznaczy minimalny koszt przejścia króla. Do funkcji należy przekazać tablicę t oraz startową kolumnę k. Koszt przebywania na polu startowym i ostatnim także wliczamy do kosztu przejścia.\n"
   ]
  },
  {
   "cell_type": "code",
   "execution_count": 5,
   "metadata": {},
   "outputs": [
    {
     "data": {
      "text/plain": [
       "36"
      ]
     },
     "execution_count": 5,
     "metadata": {},
     "output_type": "execute_result"
    }
   ],
   "source": [
    "def king(T, r, c):\n",
    "    if c < 0:\n",
    "        return 10 ** 10\n",
    "\n",
    "    if c > 7:\n",
    "        return 10 ** 10\n",
    "\n",
    "    if r == 7:\n",
    "        return T[r][c]\n",
    "    return T[r][c] + min(king(T, r + 1, c - 1), king(T, r + 1, c), king(T, r + 1, c + 1))\n",
    "\n",
    "\n",
    "t = [\n",
    "    [1, 2, 3, 4, 5, 6, 7, 8],\n",
    "    [1, 2, 3, 4, 5, 6, 7, 8],\n",
    "    [1, 2, 3, 4, 5, 6, 7, 8],\n",
    "    [1, 2, 3, 4, 5, 6, 7, 8],\n",
    "    [1, 2, 3, 4, 5, 6, 7, 8],\n",
    "    [1, 2, 3, 4, 5, 6, 7, 8],\n",
    "    [1, 2, 3, 4, 5, 6, 7, 8],\n",
    "    [1, 2, 3, 4, 5, 6, 7, 8]\n",
    "]\n",
    "\n",
    "king(t, 0, 7)\n"
   ]
  }
 ],
 "metadata": {
  "kernelspec": {
   "display_name": "Python 3.11.0 64-bit",
   "language": "python",
   "name": "python3"
  },
  "language_info": {
   "codemirror_mode": {
    "name": "ipython",
    "version": 3
   },
   "file_extension": ".py",
   "mimetype": "text/x-python",
   "name": "python",
   "nbconvert_exporter": "python",
   "pygments_lexer": "ipython3",
   "version": "3.11.0"
  },
  "orig_nbformat": 4,
  "vscode": {
   "interpreter": {
    "hash": "aee8b7b246df8f9039afb4144a1f6fd8d2ca17a180786b69acc140d282b71a49"
   }
  }
 },
 "nbformat": 4,
 "nbformat_minor": 2
}
